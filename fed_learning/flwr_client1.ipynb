{
 "cells": [
  {
   "cell_type": "code",
   "execution_count": 1,
   "metadata": {},
   "outputs": [],
   "source": [
    "import os\n",
    "os.environ[\"CUDA_VISIBLE_DEVICES\"]=\"1\"\n",
    "\n",
    "import tensorflow as tf\n",
    "gpus = tf.config.experimental.list_physical_devices('GPU')\n",
    "if gpus:\n",
    "  try:\n",
    "    tf.config.experimental.set_virtual_device_configuration(\n",
    "        gpus[0],[tf.config.experimental.VirtualDeviceConfiguration(memory_limit=12120)])\n",
    "  except RuntimeError as e:\n",
    "    print(e)"
   ]
  },
  {
   "cell_type": "code",
   "execution_count": 2,
   "metadata": {},
   "outputs": [
    {
     "name": "stderr",
     "output_type": "stream",
     "text": [
      "INFO flower 2022-07-11 11:33:32,910 | connection.py:102 | Opened insecure gRPC connection (no certificates were passed)\n",
      "DEBUG flower 2022-07-11 11:33:32,913 | connection.py:39 | ChannelConnectivity.IDLE\n",
      "DEBUG flower 2022-07-11 11:33:32,914 | connection.py:39 | ChannelConnectivity.CONNECTING\n",
      "DEBUG flower 2022-07-11 11:33:32,917 | connection.py:39 | ChannelConnectivity.READY\n"
     ]
    },
    {
     "name": "stdout",
     "output_type": "stream",
     "text": [
      "Fit history :  {'loss': [0.20463724434375763], 'accuracy': [0.9418372511863708], 'val_loss': [2.612410545349121], 'val_accuracy': [0.4977000057697296]}\n",
      "Eval accuracy :  0.836899995803833\n",
      "Fit history :  {'loss': [0.10669707506895065], 'accuracy': [0.969028890132904], 'val_loss': [1.8658994436264038], 'val_accuracy': [0.5741000175476074]}\n",
      "Eval accuracy :  0.9136000275611877\n",
      "Fit history :  {'loss': [0.07447303831577301], 'accuracy': [0.9781102538108826], 'val_loss': [1.4835240840911865], 'val_accuracy': [0.6654000282287598]}\n",
      "Eval accuracy :  0.9308000206947327\n",
      "Fit history :  {'loss': [0.05822255462408066], 'accuracy': [0.9815223217010498], 'val_loss': [1.6456648111343384], 'val_accuracy': [0.6593000292778015]}\n",
      "Eval accuracy :  0.9351000189781189\n",
      "Fit history :  {'loss': [0.0444846972823143], 'accuracy': [0.9857742786407471], 'val_loss': [1.431843638420105], 'val_accuracy': [0.6777999997138977]}\n",
      "Eval accuracy :  0.9466000199317932\n",
      "Fit history :  {'loss': [0.03756108507514], 'accuracy': [0.9886088967323303], 'val_loss': [1.4692187309265137], 'val_accuracy': [0.6826000213623047]}\n",
      "Eval accuracy :  0.9501000046730042\n",
      "Fit history :  {'loss': [0.03345516324043274], 'accuracy': [0.9881889820098877], 'val_loss': [0.8485289812088013], 'val_accuracy': [0.7875999808311462]}\n",
      "Eval accuracy :  0.9510999917984009\n",
      "Fit history :  {'loss': [0.02798263542354107], 'accuracy': [0.9899737238883972], 'val_loss': [0.9623181819915771], 'val_accuracy': [0.7623999714851379]}\n",
      "Eval accuracy :  0.9460999965667725\n",
      "Fit history :  {'loss': [0.020222580060362816], 'accuracy': [0.993858277797699], 'val_loss': [0.9364277124404907], 'val_accuracy': [0.7692000269889832]}\n",
      "Eval accuracy :  0.9513000249862671\n",
      "Fit history :  {'loss': [0.022658411413431168], 'accuracy': [0.9921259880065918], 'val_loss': [1.2537481784820557], 'val_accuracy': [0.7350999712944031]}\n"
     ]
    },
    {
     "name": "stderr",
     "output_type": "stream",
     "text": [
      "DEBUG flower 2022-07-11 11:34:25,074 | connection.py:121 | gRPC channel closed\n",
      "INFO flower 2022-07-11 11:34:25,075 | app.py:101 | Disconnect and shut down\n"
     ]
    },
    {
     "name": "stdout",
     "output_type": "stream",
     "text": [
      "Eval accuracy :  0.9577999711036682\n"
     ]
    }
   ],
   "source": [
    "import flwr as fl\n",
    "import tensorflow as tf\n",
    "from tensorflow import keras\n",
    "import sys\n",
    "import seaborn as sns\n",
    "import matplotlib.pyplot as plt\n",
    "import numpy as np\n",
    "\n",
    "# AUxillary methods\n",
    "def getDist(y):\n",
    "    ax = sns.countplot(y)\n",
    "    ax.set(title=\"Count of data classes\")\n",
    "    plt.show()\n",
    "\n",
    "def getData(dist, x, y):\n",
    "    dx = []\n",
    "    dy = []\n",
    "    counts = [0 for i in range(10)]\n",
    "    for i in range(len(x)):\n",
    "        if counts[y[i]]<dist[y[i]]:\n",
    "            dx.append(x[i])\n",
    "            dy.append(y[i])\n",
    "            counts[y[i]] += 1\n",
    "        \n",
    "    return np.array(dx), np.array(dy)\n",
    "\n",
    "# Load and compile Keras model\n",
    "model = keras.Sequential([\n",
    "    keras.layers.Flatten(input_shape=(28,28)),\n",
    "    keras.layers.Dense(128, activation='relu'),\n",
    "    keras.layers.Dense(256, activation='relu'),\n",
    "    keras.layers.Dense(10, activation='softmax')\n",
    "])\n",
    "model.compile(\"adam\", \"sparse_categorical_crossentropy\", metrics=[\"accuracy\"])\n",
    "\n",
    "# Load dataset\n",
    "(x_train, y_train), (x_test, y_test) = tf.keras.datasets.mnist.load_data()\n",
    "x_train, x_test = x_train[..., np.newaxis]/255.0, x_test[..., np.newaxis]/255.0\n",
    "dist = [4000, 4000, 4000, 3000, 10, 10, 10, 10, 4000, 10]\n",
    "x_train, y_train = getData(dist, x_train, y_train)\n",
    "# getDist(y_train)\n",
    "\n",
    "# Define Flower client\n",
    "class FlowerClient(fl.client.NumPyClient):\n",
    "    def get_parameters(self):\n",
    "        return model.get_weights()\n",
    "\n",
    "    def fit(self, parameters, config):\n",
    "        model.set_weights(parameters)\n",
    "        r = model.fit(x_train, y_train, epochs=1, validation_data=(x_test, y_test), verbose=0)\n",
    "        hist = r.history\n",
    "        print(\"Fit history : \" ,hist)\n",
    "        return model.get_weights(), len(x_train), {}\n",
    "\n",
    "    def evaluate(self, parameters, config):\n",
    "        model.set_weights(parameters)\n",
    "        loss, accuracy = model.evaluate(x_test, y_test, verbose=0)\n",
    "        print(\"Eval accuracy : \", accuracy)\n",
    "        return loss, len(x_test), {\"accuracy\": accuracy}\n",
    "\n",
    "# Start Flower client\n",
    "fl.client.start_numpy_client(\n",
    "        server_address=\"localhost:8090\", \n",
    "        client=FlowerClient(), \n",
    "        grpc_max_message_length = 1024*1024*1024\n",
    ")\n"
   ]
  },
  {
   "cell_type": "code",
   "execution_count": null,
   "metadata": {},
   "outputs": [],
   "source": []
  }
 ],
 "metadata": {
  "kernelspec": {
   "display_name": "Python 3",
   "language": "python",
   "name": "python3"
  },
  "language_info": {
   "codemirror_mode": {
    "name": "ipython",
    "version": 3
   },
   "file_extension": ".py",
   "mimetype": "text/x-python",
   "name": "python",
   "nbconvert_exporter": "python",
   "pygments_lexer": "ipython3",
   "version": "3.8.10"
  }
 },
 "nbformat": 4,
 "nbformat_minor": 2
}
