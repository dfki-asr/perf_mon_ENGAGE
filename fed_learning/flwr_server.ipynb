{
 "cells": [
  {
   "cell_type": "code",
   "execution_count": 1,
   "metadata": {},
   "outputs": [],
   "source": [
    "import os\n",
    "os.environ[\"CUDA_VISIBLE_DEVICES\"]=\"1\"\n",
    "\n",
    "import tensorflow as tf\n",
    "gpus = tf.config.experimental.list_physical_devices('GPU')\n",
    "if gpus:\n",
    "  try:\n",
    "    tf.config.experimental.set_virtual_device_configuration(\n",
    "        gpus[0],[tf.config.experimental.VirtualDeviceConfiguration(memory_limit=12120)])\n",
    "  except RuntimeError as e:\n",
    "    print(e)"
   ]
  },
  {
   "cell_type": "code",
   "execution_count": null,
   "metadata": {},
   "outputs": [
    {
     "name": "stderr",
     "output_type": "stream",
     "text": [
      "INFO flower 2022-07-11 11:33:17,423 | app.py:134 | Flower server running (10 rounds), SSL is disabled\n",
      "INFO flower 2022-07-11 11:33:17,423 | server.py:84 | Initializing global parameters\n",
      "INFO flower 2022-07-11 11:33:17,424 | server.py:256 | Requesting initial parameters from one random client\n",
      "INFO flower 2022-07-11 11:33:32,930 | server.py:259 | Received initial parameters from one random client\n",
      "INFO flower 2022-07-11 11:33:32,931 | server.py:86 | Evaluating initial parameters\n",
      "INFO flower 2022-07-11 11:33:32,931 | server.py:99 | FL starting\n",
      "DEBUG flower 2022-07-11 11:33:36,502 | server.py:203 | fit_round: strategy sampled 2 clients (out of 2)\n",
      "DEBUG flower 2022-07-11 11:33:41,634 | server.py:216 | fit_round received 2 results and 0 failures\n",
      "WARNING flower 2022-07-11 11:33:41,649 | fedavg.py:237 | No fit_metrics_aggregation_fn provided\n",
      "DEBUG flower 2022-07-11 11:33:41,654 | server.py:157 | evaluate_round: strategy sampled 2 clients (out of 2)\n"
     ]
    },
    {
     "name": "stdout",
     "output_type": "stream",
     "text": [
      "Saving round 1 aggregated_weights...\n"
     ]
    },
    {
     "name": "stderr",
     "output_type": "stream",
     "text": [
      "DEBUG flower 2022-07-11 11:33:43,061 | server.py:170 | evaluate_round received 2 results and 0 failures\n",
      "WARNING flower 2022-07-11 11:33:43,062 | fedavg.py:268 | No evaluate_metrics_aggregation_fn provided\n",
      "DEBUG flower 2022-07-11 11:33:43,064 | server.py:203 | fit_round: strategy sampled 2 clients (out of 2)\n",
      "DEBUG flower 2022-07-11 11:33:46,262 | server.py:216 | fit_round received 2 results and 0 failures\n",
      "DEBUG flower 2022-07-11 11:33:46,278 | server.py:157 | evaluate_round: strategy sampled 2 clients (out of 2)\n"
     ]
    },
    {
     "name": "stdout",
     "output_type": "stream",
     "text": [
      "Saving round 2 aggregated_weights...\n"
     ]
    },
    {
     "name": "stderr",
     "output_type": "stream",
     "text": [
      "DEBUG flower 2022-07-11 11:33:47,699 | server.py:170 | evaluate_round received 2 results and 0 failures\n",
      "DEBUG flower 2022-07-11 11:33:47,700 | server.py:203 | fit_round: strategy sampled 2 clients (out of 2)\n",
      "DEBUG flower 2022-07-11 11:33:51,102 | server.py:216 | fit_round received 2 results and 0 failures\n",
      "DEBUG flower 2022-07-11 11:33:51,112 | server.py:157 | evaluate_round: strategy sampled 2 clients (out of 2)\n"
     ]
    },
    {
     "name": "stdout",
     "output_type": "stream",
     "text": [
      "Saving round 3 aggregated_weights...\n"
     ]
    },
    {
     "name": "stderr",
     "output_type": "stream",
     "text": [
      "DEBUG flower 2022-07-11 11:33:51,968 | server.py:170 | evaluate_round received 2 results and 0 failures\n",
      "DEBUG flower 2022-07-11 11:33:51,974 | server.py:203 | fit_round: strategy sampled 2 clients (out of 2)\n",
      "DEBUG flower 2022-07-11 11:33:54,965 | server.py:216 | fit_round received 2 results and 0 failures\n",
      "DEBUG flower 2022-07-11 11:33:54,975 | server.py:157 | evaluate_round: strategy sampled 2 clients (out of 2)\n"
     ]
    },
    {
     "name": "stdout",
     "output_type": "stream",
     "text": [
      "Saving round 4 aggregated_weights...\n"
     ]
    },
    {
     "name": "stderr",
     "output_type": "stream",
     "text": [
      "DEBUG flower 2022-07-11 11:33:56,157 | server.py:170 | evaluate_round received 2 results and 0 failures\n",
      "DEBUG flower 2022-07-11 11:33:56,158 | server.py:203 | fit_round: strategy sampled 2 clients (out of 2)\n",
      "DEBUG flower 2022-07-11 11:34:01,420 | server.py:216 | fit_round received 2 results and 0 failures\n",
      "DEBUG flower 2022-07-11 11:34:01,435 | server.py:157 | evaluate_round: strategy sampled 2 clients (out of 2)\n"
     ]
    },
    {
     "name": "stdout",
     "output_type": "stream",
     "text": [
      "Saving round 5 aggregated_weights...\n"
     ]
    },
    {
     "name": "stderr",
     "output_type": "stream",
     "text": [
      "DEBUG flower 2022-07-11 11:34:02,900 | server.py:170 | evaluate_round received 2 results and 0 failures\n",
      "DEBUG flower 2022-07-11 11:34:02,901 | server.py:203 | fit_round: strategy sampled 2 clients (out of 2)\n",
      "DEBUG flower 2022-07-11 11:34:06,596 | server.py:216 | fit_round received 2 results and 0 failures\n",
      "DEBUG flower 2022-07-11 11:34:06,608 | server.py:157 | evaluate_round: strategy sampled 2 clients (out of 2)\n"
     ]
    },
    {
     "name": "stdout",
     "output_type": "stream",
     "text": [
      "Saving round 6 aggregated_weights...\n"
     ]
    },
    {
     "name": "stderr",
     "output_type": "stream",
     "text": [
      "DEBUG flower 2022-07-11 11:34:07,703 | server.py:170 | evaluate_round received 2 results and 0 failures\n",
      "DEBUG flower 2022-07-11 11:34:07,704 | server.py:203 | fit_round: strategy sampled 2 clients (out of 2)\n",
      "DEBUG flower 2022-07-11 11:34:11,327 | server.py:216 | fit_round received 2 results and 0 failures\n",
      "DEBUG flower 2022-07-11 11:34:11,336 | server.py:157 | evaluate_round: strategy sampled 2 clients (out of 2)\n"
     ]
    },
    {
     "name": "stdout",
     "output_type": "stream",
     "text": [
      "Saving round 7 aggregated_weights...\n"
     ]
    },
    {
     "name": "stderr",
     "output_type": "stream",
     "text": [
      "DEBUG flower 2022-07-11 11:34:12,408 | server.py:170 | evaluate_round received 2 results and 0 failures\n",
      "DEBUG flower 2022-07-11 11:34:12,409 | server.py:203 | fit_round: strategy sampled 2 clients (out of 2)\n"
     ]
    }
   ],
   "source": [
    "import flwr as fl\n",
    "import sys\n",
    "import numpy as np\n",
    "\n",
    "class SaveModelStrategy(fl.server.strategy.FedAvg):\n",
    "    def aggregate_fit(\n",
    "        self,\n",
    "        rnd,\n",
    "        results,\n",
    "        failures\n",
    "    ):\n",
    "        aggregated_weights = super().aggregate_fit(rnd, results, failures)\n",
    "        if aggregated_weights is not None:\n",
    "            # Save aggregated_weights\n",
    "            print(f\"Saving round {rnd} aggregated_weights...\")\n",
    "            np.savez(f\"round-{rnd}-weights.npz\", *aggregated_weights)\n",
    "        return aggregated_weights\n",
    "\n",
    "# Create strategy and run server\n",
    "strategy = SaveModelStrategy()\n",
    "\n",
    "# Start Flower server for three rounds of federated learning\n",
    "fl.server.start_server(\n",
    "        server_address = 'localhost:8090' , \n",
    "        config={\"num_rounds\": 10} ,\n",
    "        grpc_max_message_length = 1024*1024*1024,\n",
    "        strategy = strategy\n",
    ")"
   ]
  },
  {
   "cell_type": "code",
   "execution_count": null,
   "metadata": {},
   "outputs": [],
   "source": []
  }
 ],
 "metadata": {
  "kernelspec": {
   "display_name": "Python 3",
   "language": "python",
   "name": "python3"
  },
  "language_info": {
   "codemirror_mode": {
    "name": "ipython",
    "version": 3
   },
   "file_extension": ".py",
   "mimetype": "text/x-python",
   "name": "python",
   "nbconvert_exporter": "python",
   "pygments_lexer": "ipython3",
   "version": "3.8.10"
  }
 },
 "nbformat": 4,
 "nbformat_minor": 2
}
