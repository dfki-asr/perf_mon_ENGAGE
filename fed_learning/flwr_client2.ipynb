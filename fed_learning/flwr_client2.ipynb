{
 "cells": [
  {
   "cell_type": "code",
   "execution_count": 1,
   "metadata": {},
   "outputs": [],
   "source": [
    "import os\n",
    "os.environ[\"CUDA_VISIBLE_DEVICES\"]=\"1\"\n",
    "\n",
    "import tensorflow as tf\n",
    "gpus = tf.config.experimental.list_physical_devices('GPU')\n",
    "if gpus:\n",
    "  try:\n",
    "    tf.config.experimental.set_virtual_device_configuration(\n",
    "        gpus[0],[tf.config.experimental.VirtualDeviceConfiguration(memory_limit=12120)])\n",
    "  except RuntimeError as e:\n",
    "    print(e)"
   ]
  },
  {
   "cell_type": "code",
   "execution_count": 2,
   "metadata": {},
   "outputs": [
    {
     "name": "stderr",
     "output_type": "stream",
     "text": [
      "INFO flower 2022-07-11 11:33:36,493 | connection.py:102 | Opened insecure gRPC connection (no certificates were passed)\n",
      "DEBUG flower 2022-07-11 11:33:36,496 | connection.py:39 | ChannelConnectivity.IDLE\n",
      "DEBUG flower 2022-07-11 11:33:36,500 | connection.py:39 | ChannelConnectivity.CONNECTING\n",
      "DEBUG flower 2022-07-11 11:33:36,501 | connection.py:39 | ChannelConnectivity.READY\n"
     ]
    },
    {
     "name": "stdout",
     "output_type": "stream",
     "text": [
      "Fit history :  {'loss': [0.2160894125699997], 'accuracy': [0.934420645236969], 'val_loss': [3.4698874950408936], 'val_accuracy': [0.4690000116825104]}\n",
      "Eval accuracy :  0.836899995803833\n",
      "Fit history :  {'loss': [0.11109969764947891], 'accuracy': [0.9663583040237427], 'val_loss': [2.2349488735198975], 'val_accuracy': [0.5335000157356262]}\n",
      "Eval accuracy :  0.9136000275611877\n",
      "Fit history :  {'loss': [0.07357343286275864], 'accuracy': [0.9770204424858093], 'val_loss': [1.8115103244781494], 'val_accuracy': [0.6697999835014343]}\n",
      "Eval accuracy :  0.9308000206947327\n",
      "Fit history :  {'loss': [0.052647534757852554], 'accuracy': [0.9833495616912842], 'val_loss': [1.9127275943756104], 'val_accuracy': [0.6215999722480774]}\n",
      "Eval accuracy :  0.9351000189781189\n",
      "Fit history :  {'loss': [0.046924371272325516], 'accuracy': [0.9846153855323792], 'val_loss': [1.4337106943130493], 'val_accuracy': [0.7037000060081482]}\n",
      "Eval accuracy :  0.9466000199317932\n",
      "Fit history :  {'loss': [0.04099899157881737], 'accuracy': [0.9857838153839111], 'val_loss': [1.5905348062515259], 'val_accuracy': [0.6823999881744385]}\n",
      "Eval accuracy :  0.9501000046730042\n",
      "Fit history :  {'loss': [0.02770186960697174], 'accuracy': [0.990944504737854], 'val_loss': [1.7490041255950928], 'val_accuracy': [0.6484000086784363]}\n",
      "Eval accuracy :  0.9510999917984009\n",
      "Fit history :  {'loss': [0.026884403079748154], 'accuracy': [0.9909932017326355], 'val_loss': [1.6760791540145874], 'val_accuracy': [0.6801999807357788]}\n",
      "Eval accuracy :  0.9460999965667725\n",
      "Fit history :  {'loss': [0.024035070091485977], 'accuracy': [0.9912853240966797], 'val_loss': [1.7580468654632568], 'val_accuracy': [0.6886000037193298]}\n",
      "Eval accuracy :  0.9513000249862671\n",
      "Fit history :  {'loss': [0.01954854652285576], 'accuracy': [0.9941577315330505], 'val_loss': [1.1650009155273438], 'val_accuracy': [0.733299970626831]}\n"
     ]
    },
    {
     "name": "stderr",
     "output_type": "stream",
     "text": [
      "DEBUG flower 2022-07-11 11:34:25,074 | connection.py:121 | gRPC channel closed\n",
      "INFO flower 2022-07-11 11:34:25,076 | app.py:101 | Disconnect and shut down\n"
     ]
    },
    {
     "name": "stdout",
     "output_type": "stream",
     "text": [
      "Eval accuracy :  0.9577999711036682\n"
     ]
    }
   ],
   "source": [
    "import flwr as fl\n",
    "import tensorflow as tf\n",
    "from tensorflow import keras\n",
    "import sys\n",
    "import seaborn as sns\n",
    "import matplotlib.pyplot as plt\n",
    "import numpy as np\n",
    "\n",
    "# AUxillary methods\n",
    "def getDist(y):\n",
    "    ax = sns.countplot(y)\n",
    "    ax.set(title=\"Count of data classes\")\n",
    "    plt.show()\n",
    "\n",
    "def getData(dist, x, y):\n",
    "    dx = []\n",
    "    dy = []\n",
    "    counts = [0 for i in range(10)]\n",
    "    for i in range(len(x)):\n",
    "        if counts[y[i]]<dist[y[i]]:\n",
    "            dx.append(x[i])\n",
    "            dy.append(y[i])\n",
    "            counts[y[i]] += 1\n",
    "        \n",
    "    return np.array(dx), np.array(dy)\n",
    "\n",
    "# Load and compile Keras model\n",
    "model = keras.Sequential([\n",
    "    keras.layers.Flatten(input_shape=(28,28)),\n",
    "    keras.layers.Dense(128, activation='relu'),\n",
    "    keras.layers.Dense(256, activation='relu'),\n",
    "    keras.layers.Dense(10, activation='softmax')\n",
    "])\n",
    "model.compile(\"adam\", \"sparse_categorical_crossentropy\", metrics=[\"accuracy\"])\n",
    "\n",
    "# Load dataset\n",
    "(x_train, y_train), (x_test, y_test) = tf.keras.datasets.mnist.load_data()\n",
    "x_train, x_test = x_train[..., np.newaxis]/255.0, x_test[..., np.newaxis]/255.0\n",
    "dist = [0, 10, 10, 10, 4000, 3000, 4000, 5000, 10, 4500]\n",
    "x_train, y_train = getData(dist, x_train, y_train)\n",
    "# getDist(y_train)\n",
    "\n",
    "# Define Flower client\n",
    "class FlowerClient(fl.client.NumPyClient):\n",
    "    def get_parameters(self):\n",
    "        return model.get_weights()\n",
    "\n",
    "    def fit(self, parameters, config):\n",
    "        model.set_weights(parameters)\n",
    "        r = model.fit(x_train, y_train, epochs=1, validation_data=(x_test, y_test), verbose=0)\n",
    "        hist = r.history\n",
    "        print(\"Fit history : \" ,hist)\n",
    "        return model.get_weights(), len(x_train), {}\n",
    "\n",
    "    def evaluate(self, parameters, config):\n",
    "        model.set_weights(parameters)\n",
    "        loss, accuracy = model.evaluate(x_test, y_test, verbose=0)\n",
    "        print(\"Eval accuracy : \", accuracy)\n",
    "        return loss, len(x_test), {\"accuracy\": accuracy}\n",
    "\n",
    "# Start Flower client\n",
    "fl.client.start_numpy_client(\n",
    "        server_address=\"localhost:8090\", \n",
    "        client=FlowerClient(), \n",
    "        grpc_max_message_length = 1024*1024*1024\n",
    ")"
   ]
  },
  {
   "cell_type": "code",
   "execution_count": null,
   "metadata": {},
   "outputs": [],
   "source": []
  }
 ],
 "metadata": {
  "kernelspec": {
   "display_name": "Python 3",
   "language": "python",
   "name": "python3"
  },
  "language_info": {
   "codemirror_mode": {
    "name": "ipython",
    "version": 3
   },
   "file_extension": ".py",
   "mimetype": "text/x-python",
   "name": "python",
   "nbconvert_exporter": "python",
   "pygments_lexer": "ipython3",
   "version": "3.8.10"
  }
 },
 "nbformat": 4,
 "nbformat_minor": 2
}
