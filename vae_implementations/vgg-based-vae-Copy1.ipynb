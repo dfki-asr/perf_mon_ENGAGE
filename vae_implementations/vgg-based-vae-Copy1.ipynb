{
 "cells": [
  {
   "cell_type": "code",
   "execution_count": 1,
   "metadata": {},
   "outputs": [],
   "source": [
    "import os\n",
    "os.environ[\"CUDA_VISIBLE_DEVICES\"]=\"1\"\n",
    "\n",
    "import tensorflow as tf\n",
    "gpus = tf.config.experimental.list_physical_devices('GPU')\n",
    "if gpus:\n",
    "  try:\n",
    "    tf.config.experimental.set_virtual_device_configuration(\n",
    "        gpus[0],[tf.config.experimental.VirtualDeviceConfiguration(memory_limit=5120)])\n",
    "  except RuntimeError as e:\n",
    "    print(e)"
   ]
  },
  {
   "cell_type": "code",
   "execution_count": 2,
   "id": "cc74c549",
   "metadata": {},
   "outputs": [],
   "source": [
    "import tensorflow as tf\n",
    "from tensorflow import keras\n",
    "from tensorflow.keras import layers\n",
    "from tensorflow.keras.layers import Conv2D, Conv2DTranspose, Dense, Input, Flatten,\\\n",
    "Conv2DTranspose, BatchNormalization, LeakyReLU, Reshape, MaxPooling2D, concatenate, InputLayer, Lambda\n",
    "from tensorflow.keras.models import Sequential, Model\n",
    "from tensorflow.keras.datasets import cifar10\n",
    "import tensorflow.keras.backend as K\n",
    "import tensorflow as tf\n",
    "from tensorflow.keras.utils import to_categorical\n",
    "import numpy as np\n",
    "import matplotlib.pyplot as plt\n",
    "import plotly\n",
    "import plotly.express as px"
   ]
  },
  {
   "cell_type": "code",
   "execution_count": 3,
   "id": "a1855d6d",
   "metadata": {},
   "outputs": [],
   "source": [
    "# input image dimensions\n",
    "img_rows, img_cols = 32, 32\n",
    "# Load CIFAR-10 dataset-\n",
    "(X_train, y_train), (X_test, y_test) = cifar10.load_data()"
   ]
  },
  {
   "cell_type": "code",
   "execution_count": 4,
   "id": "8a0baa98",
   "metadata": {},
   "outputs": [],
   "source": [
    "if tf.keras.backend.image_data_format() == 'channels_first':\n",
    "    X_train = X_train.reshape(X_train.shape[0], 1, img_rows, img_cols)\n",
    "    X_test = X_test.reshape(X_test.shape[0], 1, img_rows, img_cols)\n",
    "    input_shape = (3, img_rows, img_cols)\n",
    "else:\n",
    "    X_train = X_train.reshape(X_train.shape[0], img_rows, img_cols, 3)\n",
    "    X_test = X_test.reshape(X_test.shape[0], img_rows, img_cols, 3)\n",
    "    input_shape = (img_rows, img_cols, 3)\n"
   ]
  },
  {
   "cell_type": "code",
   "execution_count": 5,
   "id": "456437ea",
   "metadata": {},
   "outputs": [],
   "source": [
    "# Specify hyper-parameters-\n",
    "batch_size = 64\n",
    "num_classes = 10\n",
    "num_epochs = 50"
   ]
  },
  {
   "cell_type": "code",
   "execution_count": 6,
   "metadata": {},
   "outputs": [
    {
     "name": "stdout",
     "output_type": "stream",
     "text": [
      "\n",
      "Dimensions of training and testing sets are:\n",
      "X_train.shape: (50000, 32, 32, 3) & X_test.shape: (10000, 32, 32, 3)\n"
     ]
    }
   ],
   "source": [
    "# Convert datasets to floating point types-\n",
    "X_train = X_train.astype('float32')\n",
    "X_test = X_test.astype('float32')\n",
    "\n",
    "# Normalize the training and testing datasets-\n",
    "X_train /= 255.0\n",
    "X_test /= 255.0\n",
    "\n",
    "\n",
    "\n",
    "# X_train, X_test = X_train.reshape(X_train.shape[0], -1), X_test.reshape(X_test.shape[0], -1)\n",
    "# Create TF datasets-\n",
    "\n",
    "\n",
    "print(\"\\nDimensions of training and testing sets are:\")\n",
    "print(f\"X_train.shape: {X_train.shape} & X_test.shape: {X_test.shape}\")"
   ]
  },
  {
   "cell_type": "code",
   "execution_count": 7,
   "metadata": {},
   "outputs": [
    {
     "name": "stdout",
     "output_type": "stream",
     "text": [
      "y_train.shape: (50000, 10) & y_test.shape: (10000, 10)\n"
     ]
    }
   ],
   "source": [
    "y_train, y_test = to_categorical(y_train), to_categorical(y_test)\n",
    "print(f\"y_train.shape: {y_train.shape} & y_test.shape: {y_test.shape}\")\n",
    "\n",
    "train_dataset = tf.data.Dataset.from_tensor_slices((X_train, y_train) ).shuffle(50000).batch(batch_size = batch_size)\n",
    "test_dataset = tf.data.Dataset.from_tensor_slices((X_test, y_test)).shuffle(10000).batch(batch_size = batch_size)"
   ]
  },
  {
   "cell_type": "code",
   "execution_count": 8,
   "id": "21b41e55",
   "metadata": {},
   "outputs": [],
   "source": [
    "class ConvBlock(Model):\n",
    "    def __init__(\n",
    "        self, num_filters,\n",
    "        kernel_size, stride_length,\n",
    "        pooling_size, pooling_stride,\n",
    "        padding_type = 'same'\n",
    "    ):\n",
    "        super(ConvBlock, self).__init__()\n",
    "        \n",
    "        self.conv1 = Conv2D(\n",
    "            filters = num_filters, kernel_size = kernel_size,\n",
    "            strides = stride_length, padding = padding_type,\n",
    "            activation = None, use_bias = False,\n",
    "        )\n",
    "        self.bn = BatchNormalization(\n",
    "            axis = -1, momentum = 0.99,\n",
    "            epsilon = 0.001\n",
    "            )\n",
    "        \n",
    "        self.conv2 = Conv2D(\n",
    "            filters = num_filters, kernel_size = kernel_size,\n",
    "            strides = stride_length, padding = padding_type,\n",
    "            activation = None, use_bias = False\n",
    "        )\n",
    "        self.bn2 = BatchNormalization(\n",
    "            axis = -1, momentum = 0.99,\n",
    "            epsilon = 0.001\n",
    "            )\n",
    "        \n",
    "        self.pool = MaxPooling2D(\n",
    "            pool_size = pooling_size,\n",
    "            strides = pooling_stride\n",
    "        )\n",
    "        \n",
    "    \n",
    "    def call(self, x):\n",
    "        x = tf.keras.activations.relu(self.bn(self.conv1(x)))\n",
    "        x = tf.keras.activations.relu(self.bn2(self.conv2(x)))\n",
    "        x = self.pool(x)\n",
    "        \n",
    "        return x"
   ]
  },
  {
   "cell_type": "code",
   "execution_count": 9,
   "id": "be5ad095",
   "metadata": {},
   "outputs": [],
   "source": [
    "class Conv6_Encoder(Model):\n",
    "    def __init__(self, latent_dim = 10):\n",
    "        super(Conv6_Encoder, self).__init__()\n",
    "\n",
    "        self.latent_dim = latent_dim\n",
    "        \n",
    "        self.conv_block1 = ConvBlock(\n",
    "            num_filters = 64, kernel_size = 3,\n",
    "            stride_length = 1, pooling_size = 2,\n",
    "            pooling_stride = 2, padding_type = 'valid'\n",
    "            )\n",
    "\n",
    "        self.conv_block2 = ConvBlock(\n",
    "            num_filters = 128, kernel_size = 3,\n",
    "            stride_length = 1, pooling_size = 2,\n",
    "            pooling_stride = 2, padding_type = 'valid'\n",
    "            )\n",
    "        \n",
    "        self.conv_block3 = ConvBlock(\n",
    "            num_filters = 256, kernel_size = 3,\n",
    "            stride_length = 1, pooling_size = 2,\n",
    "            pooling_stride = 2, padding_type = 'same'\n",
    "            )\n",
    "\n",
    "        self.flatten = Flatten()\n",
    "        \n",
    "        self.output_layer = Dense(\n",
    "            units = self.latent_dim, activation = None\n",
    "            )\n",
    "        self.bn = BatchNormalization(\n",
    "            axis = -1, momentum = 0.99,\n",
    "            epsilon = 0.001\n",
    "            )\n",
    "        \n",
    "    \n",
    "    def call(self, x):\n",
    "        x1 = x[0]\n",
    "        x2 = x[1]\n",
    "        o = self.conv_block1(x1)\n",
    "        o = self.conv_block2(o)\n",
    "        o = self.conv_block3(o)\n",
    "#         res_shape = x.shape\n",
    "        o = self.flatten(o)\n",
    "        \n",
    "        o = K.concatenate([o,x2], axis=-1)\n",
    "        o = tf.keras.activations.relu(self.bn(self.output_layer(o)))\n",
    "        return o, x2\n",
    "    \n",
    "    def model(self):\n",
    "        '''\n",
    "        Overrides 'model()' call.\n",
    "        Output shape is not well-defined when using sub-classing. As a\n",
    "        workaround, this method is implemeted.\n",
    "        '''\n",
    "        x1 = Input(shape = (32,32,3))\n",
    "        x2 = Input(shape = (10,))\n",
    "        return Model(inputs = [x1,x2], outputs = self.call([x1,x2]))\n",
    "    \n",
    "    def shape_computation(self, x):\n",
    "        print(f\"Input shape: {x.shape}\")\n",
    "        x = self.conv_block1(x)\n",
    "        print(f\"conv_block1.shape: {x.shape}\")\n",
    "        x = self.conv_block2(x)\n",
    "        print(f\"conv_block2.shape: {x.shape}\")\n",
    "        x = self.conv_block3(x)\n",
    "        print(f\"conv_block3.shape: {x.shape}\")\n",
    "        x = self.flatten(x)\n",
    "        print(f\"flattened shape: {x.shape}\")\n",
    "        x = tf.keras.activations.relu(self.bn(self.output_layer(x)))\n",
    "        print(f\"Encoder output shape: {x.shape}\")\n",
    "        '''\n",
    "        Input shape: (64, 32, 32, 3)\n",
    "        conv_block1.shape: (64, 14, 14, 64)\n",
    "        conv_block2.shape: (64, 5, 5, 128)\n",
    "        conv_block3.shape: (64, 2, 2, 256)\n",
    "        flattened shape: (64, 1024)\n",
    "        Encoder output shape: (64, 100)\n",
    "        '''\n",
    "        \n",
    "        return None"
   ]
  },
  {
   "cell_type": "code",
   "execution_count": 10,
   "id": "741a36a7",
   "metadata": {},
   "outputs": [],
   "source": [
    "class Conv6_Decoder(Model):\n",
    "    def __init__(self, latent_dim = 10):\n",
    "        super(Conv6_Decoder, self).__init__()\n",
    "\n",
    "        self.latent_dim = latent_dim\n",
    "#         self.inp_layer = InputLayer(input_shape = self.latent_dim+10)\n",
    "        \n",
    "        print('In decoder')\n",
    "        self.dense0 = Dense(\n",
    "            units = self.latent_dim+10, activation = None\n",
    "            )\n",
    "        self.bn0 = BatchNormalization(\n",
    "            axis = -1, momentum = 0.99,\n",
    "            epsilon = 0.001\n",
    "            )\n",
    "        \n",
    "        self.dense = Dense(\n",
    "            units = 1024, activation = None\n",
    "        )\n",
    "        self.bn = BatchNormalization(\n",
    "            axis = -1, momentum = 0.99,\n",
    "            epsilon = 0.001\n",
    "            )\n",
    "        \n",
    "        self.dense2 = Dense(\n",
    "            units = 4 * 4 * 256, activation = None\n",
    "        )\n",
    "        self.bn2 = BatchNormalization(\n",
    "            axis = -1, momentum = 0.99,\n",
    "            epsilon = 0.001\n",
    "            )\n",
    "        \n",
    "        self.reshape = Reshape((4, 4, 256))\n",
    "        \n",
    "        self.conv_transpose_layer1 = Conv2DTranspose(\n",
    "            filters = 256, kernel_size = 3,\n",
    "            strides = 2, padding = 'same',\n",
    "            activation = None\n",
    "            )\n",
    "        self.bn3 = BatchNormalization(\n",
    "            axis = -1, momentum = 0.99,\n",
    "            epsilon = 0.001\n",
    "            )\n",
    "       \n",
    "        self.conv_transpose_layer2 = Conv2DTranspose(\n",
    "            filters = 256, kernel_size = 3,\n",
    "            strides = 1, padding = 'same',\n",
    "            activation = None\n",
    "            )\n",
    "        \n",
    "        self.bn4 = BatchNormalization(\n",
    "            axis = -1, momentum = 0.99,\n",
    "            epsilon = 0.001\n",
    "            )\n",
    "        \n",
    "        self.conv_transpose_layer3 =  Conv2DTranspose(\n",
    "            filters = 128, kernel_size = 3,\n",
    "            strides = 2, padding = 'same',\n",
    "            activation = None\n",
    "            )\n",
    "        self.bn5 = BatchNormalization(\n",
    "            axis = -1, momentum = 0.99,\n",
    "            epsilon = 0.001\n",
    "            )\n",
    "        \n",
    "        self.conv_transpose_layer4 = Conv2DTranspose(\n",
    "            filters = 128, kernel_size = 3,\n",
    "            strides = 1, padding = 'same',\n",
    "            activation = None\n",
    "            )\n",
    "        \n",
    "        self.bn6 = BatchNormalization(\n",
    "            axis = -1, momentum = 0.99,\n",
    "            epsilon = 0.001\n",
    "            )\n",
    "\n",
    "        self.conv_transpose_layer5 = Conv2DTranspose(\n",
    "            filters = 64, kernel_size = 3,\n",
    "            strides = 2, padding = 'same',\n",
    "            activation = None\n",
    "            )\n",
    "        self.bn7 = BatchNormalization(\n",
    "            axis = -1, momentum = 0.99,\n",
    "            epsilon = 0.001\n",
    "            )\n",
    "       \n",
    "        self.conv_transpose_layer6 = Conv2DTranspose(\n",
    "            filters = 64, kernel_size = 3,\n",
    "            strides = 1, padding = 'same',\n",
    "            activation = None\n",
    "            )\n",
    "        \n",
    "        self.bn8 = BatchNormalization(\n",
    "            axis = -1, momentum = 0.99,\n",
    "            epsilon = 0.001\n",
    "            )\n",
    "        \n",
    "        self.final_conv_layer = Conv2DTranspose(\n",
    "            filters = 3, kernel_size = 3,\n",
    "            strides = 1, padding = 'same',\n",
    "            activation = None\n",
    "            )\n",
    "        \n",
    "    \n",
    "    def call(self, X):\n",
    "#         X = self.inp_layer(X)\n",
    "        x1 = X[0]\n",
    "        x2 = X[1]\n",
    "        X = K.concatenate([x1,x2])\n",
    "        X = tf.keras.activations.relu(self.bn0(self.dense0(X)))\n",
    "        X = tf.keras.activations.relu(self.bn(self.dense(X)))\n",
    "        X = tf.keras.activations.relu(self.bn2(self.dense2(X)))\n",
    "        X = self.reshape(X)\n",
    "        X = tf.keras.activations.relu(self.bn3(self.conv_transpose_layer1(X)))\n",
    "        X = tf.keras.activations.relu(self.bn4(self.conv_transpose_layer2(X)))\n",
    "        X = tf.keras.activations.relu(self.bn5(self.conv_transpose_layer3(X)))\n",
    "        X = tf.keras.activations.relu(self.bn6(self.conv_transpose_layer4(X)))\n",
    "        X = tf.keras.activations.relu(self.bn7(self.conv_transpose_layer5(X)))\n",
    "        X = tf.keras.activations.relu(self.bn8(self.conv_transpose_layer6(X)))\n",
    "        # X = tf.keras.activations.sigmoid(self.final_conv_layer(X))\n",
    "        X = self.final_conv_layer(X)\n",
    "\n",
    "        return X\n",
    "        \n",
    "    def model(self):\n",
    "        '''\n",
    "        Overrides 'model()' call.\n",
    "        Output shape is not well-defined when using sub-classing. As a\n",
    "        workaround, this method is implemeted.\n",
    "        '''\n",
    "        x1 = Input(shape = (100))\n",
    "        x2 = Input(shape=(10,))\n",
    "        return Model(inputs = [x1,x2], outputs = self.call([x1,x2]))\n",
    "    \n",
    "    def shape_computation(self, x):\n",
    "        print(f\"Input shape: {x.shape}\")\n",
    "        x = tf.nn.relu(self.bn0(self.dense0(x)))\n",
    "        print(f\"first dense layer shape: {x.shape}\")\n",
    "        x = tf.nn.relu(self.bn(self.dense(x)))\n",
    "        print(f\"second dense layer shape: {x.shape}\")\n",
    "        x = tf.nn.relu(self.bn2(self.dense2(x)))\n",
    "        print(f\"third dense layer shape: {x.shape}\")\n",
    "        x = self.reshape(x)\n",
    "        print(f\"reshape: {x.shape}\")\n",
    "        x = tf.nn.relu(self.bn3(self.conv_transpose_layer1(x)))\n",
    "        print(f\"conv transpose layer1 shape: {x.shape}\")\n",
    "        x = tf.nn.relu(self.bn4(self.conv_transpose_layer2(x)))\n",
    "        print(f\"conv transpose layer2 shape: {x.shape}\")\n",
    "        x = tf.nn.relu(self.bn5(self.conv_transpose_layer3(x)))\n",
    "        print(f\"conv transpose layer3 shape: {x.shape}\")\n",
    "        x = tf.nn.relu(self.bn6(self.conv_transpose_layer4(x)))\n",
    "        print(f\"conv transpose layer4 shape: {x.shape}\")\n",
    "        x = tf.nn.relu(self.bn7(self.conv_transpose_layer5(x)))\n",
    "        print(f\"conv transpose layer5 shape: {x.shape}\")\n",
    "        x = tf.nn.relu(self.bn8(self.conv_transpose_layer6(x)))\n",
    "        print(f\"conv transpose layer6 shape: {x.shape}\")\n",
    "        x = self.final_conv_layer(x)\n",
    "        print(f\"Decoder output shape: {x.shape}\")\n",
    "        \n",
    "        '''\n",
    "        Input shape: (64, 100)\n",
    "        first dense layer shape: (64, 100)\n",
    "        second dense layer shape: (64, 1024)\n",
    "        third dense layer shape: (64, 4096)\n",
    "        reshape: (64, 4, 4, 256)\n",
    "        conv transpose layer1 shape: (64, 8, 8, 256)\n",
    "        conv transpose layer2 shape: (64, 8, 8, 256)\n",
    "        conv transpose layer3 shape: (64, 16, 16, 128)\n",
    "        conv transpose layer4 shape: (64, 16, 16, 128)\n",
    "        conv transpose layer5 shape: (64, 32, 32, 64)\n",
    "        conv transpose layer6 shape: (64, 32, 32, 64)\n",
    "        Decoder output shape: (64, 32, 32, 3)\n",
    "        '''\n",
    "        \n",
    "        return None\n",
    "        "
   ]
  },
  {
   "cell_type": "code",
   "execution_count": 11,
   "metadata": {},
   "outputs": [],
   "source": [
    "class Sampling(tf.keras.layers.Layer):\n",
    "    \"\"\"\n",
    "    Create a sampling layer.\n",
    "    Uses (mu, log_var) to sample latent vector 'z'.\n",
    "    \"\"\"\n",
    "    def call(self, mu, log_var):\n",
    "    # def call(self, inputs):\n",
    "        # z_mean, z_log_var = inputs\n",
    "\n",
    "        # Get batch size-\n",
    "        batch = tf.shape(mu)[0]\n",
    "\n",
    "        # Get latent space dimensionality-\n",
    "        dim = tf.shape(mu)[1]\n",
    "\n",
    "        # Add stochasticity by sampling from a multivariate standard \n",
    "        # Gaussian distribution-\n",
    "        epsilon = tf.keras.backend.random_normal(\n",
    "            shape = (batch, dim), mean = 0.0,\n",
    "            stddev = 1.0\n",
    "        )\n",
    "        z = mu + (tf.exp(0.5 * log_var) * epsilon)\n",
    "        return z\n",
    "\n"
   ]
  },
  {
   "cell_type": "code",
   "execution_count": 12,
   "metadata": {
    "scrolled": true
   },
   "outputs": [],
   "source": [
    "class VAE(Model):\n",
    "    def __init__(self, latent_space = 100):\n",
    "        super(VAE, self).__init__()\n",
    "        \n",
    "        self.latent_space = latent_space\n",
    "        self.encoder = Conv6_Encoder(latent_dim = self.latent_space)\n",
    "        self.decoder = Conv6_Decoder(latent_dim = self.latent_space)\n",
    "        \n",
    "        # Define fully-connected layers for computing mean & log variance-\n",
    "        self.mu = Dense(units = self.latent_space, activation = None)\n",
    "        self.log_var = Dense(units = self.latent_space, activation = None)\n",
    "\n",
    "\n",
    "    def reparameterize(self, mu, logvar):\n",
    "        # Sample from a multivariate Gaussian distribution.\n",
    "        # Adds stochasticity or variation-\n",
    "        eps = tf.random.normal(\n",
    "            shape = mu.shape, mean = 0.0,\n",
    "            stddev = 1.0\n",
    "        )\n",
    "        return (eps * tf.exp(logvar * 0.5) + mu)\n",
    "        \n",
    "    \n",
    "    def call(self, x):\n",
    "        latent, label = self.encoder(x)\n",
    "        # x.shape: (batch_size, 100)\n",
    "        mu = self.mu(latent)\n",
    "        log_var = self.log_var(latent)\n",
    "        # z = self.reparameterize(mu, log_var)\n",
    "        # z = Sampling()([mu, log_var])\n",
    "        z = Sampling()(mu, log_var)\n",
    "        \n",
    "        \n",
    "        \n",
    "        '''\n",
    "        print(f\"mu.shape: {mu.shape}, log_var.shape: {log_var.shape}\"\n",
    "              f\" & z.shape: {z.shape}\")\n",
    "        # mu.shape: (batch_size, 100), log_var.shape: (batch_size, 100) & z.shape: (batch_size, 100)\n",
    "        '''\n",
    "        x = tf.keras.activations.sigmoid(self.decoder([z, label]))\n",
    "        return x, mu, log_var, z\n",
    "    \n",
    "    \n",
    "    def model(self):\n",
    "        '''\n",
    "        Overrides 'model()' call.\n",
    "        Output shape is not well-defined when using sub-classing. As a\n",
    "        workaround, this method is implemeted.\n",
    "        '''\n",
    "        x1 = Input(shape = (32,32,3))\n",
    "        x2 = Input(shape = (10,))\n",
    "        return Model(inputs = [x1,x2], outputs = self.call([x1,x2]))"
   ]
  },
  {
   "cell_type": "code",
   "execution_count": 13,
   "metadata": {
    "scrolled": true
   },
   "outputs": [
    {
     "name": "stdout",
     "output_type": "stream",
     "text": [
      "In decoder\n",
      "Model: \"model\"\n",
      "__________________________________________________________________________________________________\n",
      " Layer (type)                   Output Shape         Param #     Connected to                     \n",
      "==================================================================================================\n",
      " input_1 (InputLayer)           [(None, 32, 32, 3)]  0           []                               \n",
      "                                                                                                  \n",
      " input_2 (InputLayer)           [(None, 10)]         0           []                               \n",
      "                                                                                                  \n",
      " conv6__encoder (Conv6_Encoder)  ((None, 100),       1251996     ['input_1[0][0]',                \n",
      "                                 (None, 10))                      'input_2[0][0]']                \n",
      "                                                                                                  \n",
      " dense_4 (Dense)                (None, 100)          10100       ['conv6__encoder[0][0]']         \n",
      "                                                                                                  \n",
      " dense_5 (Dense)                (None, 100)          10100       ['conv6__encoder[0][0]']         \n",
      "                                                                                                  \n",
      " sampling (Sampling)            (None, 100)          0           ['dense_4[0][0]',                \n",
      "                                                                  'dense_5[0][0]']                \n",
      "                                                                                                  \n",
      " conv6__decoder (Conv6_Decoder)  (None, 32, 32, 3)   6084013     ['sampling[0][0]',               \n",
      "                                                                  'conv6__encoder[0][1]']         \n",
      "                                                                                                  \n",
      " tf.math.sigmoid (TFOpLambda)   (None, 32, 32, 3)    0           ['conv6__decoder[0][0]']         \n",
      "                                                                                                  \n",
      "==================================================================================================\n",
      "Total params: 7,356,209\n",
      "Trainable params: 7,341,965\n",
      "Non-trainable params: 14,244\n",
      "__________________________________________________________________________________________________\n"
     ]
    }
   ],
   "source": [
    "# Initialize VAE model-\n",
    "model = VAE(latent_space = 100)\n",
    "model.model().summary()\n"
   ]
  },
  {
   "cell_type": "code",
   "execution_count": 14,
   "metadata": {},
   "outputs": [],
   "source": [
    "x, mu, log_var, z = model.predict([X_train[0].reshape(1,32,32,3),y_train[0].reshape(1,10)])"
   ]
  },
  {
   "cell_type": "code",
   "execution_count": 15,
   "metadata": {},
   "outputs": [
    {
     "data": {
      "text/plain": [
       "(1, 100)"
      ]
     },
     "execution_count": 15,
     "metadata": {},
     "output_type": "execute_result"
    }
   ],
   "source": [
    "z.shape"
   ]
  },
  {
   "cell_type": "code",
   "execution_count": 16,
   "metadata": {},
   "outputs": [],
   "source": [
    "# # Get model summary-\n",
    "# model.decoder.model().summary()"
   ]
  },
  {
   "cell_type": "code",
   "execution_count": 17,
   "metadata": {},
   "outputs": [],
   "source": [
    "# Define an optimizer-\n",
    "optimizer = tf.keras.optimizers.Adam(learning_rate = 1e-4)"
   ]
  },
  {
   "cell_type": "code",
   "execution_count": 18,
   "metadata": {},
   "outputs": [],
   "source": [
    "def compute_loss(data, reconstruction, mu, log_var, alpha = 1):\n",
    "    \n",
    "    # Reconstruction loss-\n",
    "    # recon_loss = tf.keras.losses.mean_squared_error(K.flatten(data), K.flatten(reconstruction))\n",
    "\n",
    "    recon_loss = tf.reduce_mean(\n",
    "        tf.reduce_sum(\n",
    "            tf.keras.losses.binary_crossentropy(data[0], reconstruction), axis=(1, 2)\n",
    "#             tf.keras.losses.mean_squared_error(data, reconstruction),\n",
    "#             axis = (1, 2)\n",
    "            )\n",
    "        )\n",
    "    \n",
    "    # KL-divergence loss-    \n",
    "    kl_loss = -0.5 * (1 + log_var - tf.square(mu) - tf.exp(log_var))\n",
    "    kl_loss = tf.reduce_mean(\n",
    "        tf.reduce_sum(\n",
    "            kl_loss,\n",
    "            axis = 1\n",
    "        )\n",
    "    )\n",
    "\n",
    "    total_loss = (recon_loss * alpha) + kl_loss\n",
    "    \n",
    "    return total_loss, recon_loss, kl_loss\n",
    "    "
   ]
  },
  {
   "cell_type": "code",
   "execution_count": 19,
   "metadata": {},
   "outputs": [],
   "source": [
    "@tf.function\n",
    "def train_one_step(model, optimizer, data, alpha):\n",
    "    # Function to perform one step/iteration of training\n",
    "\n",
    "    with tf.GradientTape() as tape:\n",
    "        # Make predictions using defined model-\n",
    "        data_recon, mu, log_var, z = model(data)\n",
    "\n",
    "        # Compute loss-\n",
    "        total_loss, recon_loss, kl_loss = compute_loss(\n",
    "            data = data, reconstruction = data_recon,\n",
    "            mu = mu, log_var = log_var,\n",
    "            alpha = alpha\n",
    "        )\n",
    "    \n",
    "    # Compute gradients wrt defined loss and weights and biases-\n",
    "    grads = tape.gradient(total_loss, model.trainable_variables)\n",
    "    \n",
    "    # type(grads)\n",
    "    # list\n",
    "    \n",
    "    # Apply computed gradients to model's weights and biases-\n",
    "    optimizer.apply_gradients(zip(grads, model.trainable_variables))\n",
    "    \n",
    "    return total_loss, recon_loss, kl_loss\n",
    "\n",
    "\n",
    "@tf.function\n",
    "def test_step(model, optimizer, data, alpha):\n",
    "    '''\n",
    "    Function to test model performance\n",
    "    on testing dataset\n",
    "    '''\n",
    "    # Make predictions using defined model-\n",
    "    data_recon, mu, log_var, z = model(data)\n",
    "    \n",
    "    # Compute loss-\n",
    "    total_loss, recon_loss, kl_loss = compute_loss(\n",
    "        data = data, reconstruction = data_recon,\n",
    "        mu = mu, log_var = log_var,\n",
    "        alpha = alpha\n",
    "    )\n",
    "    \n",
    "    return total_loss, recon_loss, kl_loss"
   ]
  },
  {
   "cell_type": "code",
   "execution_count": 20,
   "metadata": {},
   "outputs": [],
   "source": [
    "# Specify hyper-parameter for reconstruction loss vs. kl-divergence-\n",
    "alpha = 10\n",
    "\n",
    "# Python3 dict to contain training metrics-\n",
    "training_metrics = {}\n",
    "val_metrics = {}"
   ]
  },
  {
   "cell_type": "code",
   "execution_count": 21,
   "metadata": {
    "scrolled": true
   },
   "outputs": [
    {
     "name": "stdout",
     "output_type": "stream",
     "text": [
      "epoch = 1; total train loss = 5209249.2661, train recon loss = 518921.3849, train kl loss = 20035.4157; total val loss = 1008841.2646, val recon loss = 100200.4110 & val kl loss = 6837.1572\n",
      "epoch = 2; total train loss = 4959799.2285, train recon loss = 491856.9262, train kl loss = 41229.9745; total val loss = 990640.4233, val recon loss = 98213.3318 & val kl loss = 8507.1072\n",
      "epoch = 3; total train loss = 4912212.0869, train recon loss = 486797.2874, train kl loss = 44239.2167; total val loss = 984862.8003, val recon loss = 97561.7520 & val kl loss = 9245.2786\n",
      "epoch = 4; total train loss = 4877279.6680, train recon loss = 482887.7668, train kl loss = 48401.9971; total val loss = 974981.2461, val recon loss = 96493.5046 & val kl loss = 10046.1989\n",
      "epoch = 5; total train loss = 4834744.4536, train recon loss = 478232.0659, train kl loss = 52423.7974; total val loss = 970161.3745, val recon loss = 95959.6492 & val kl loss = 10564.8882\n",
      "epoch = 6; total train loss = 4817282.2744, train recon loss = 476444.5468, train kl loss = 52836.8117; total val loss = 968458.2759, val recon loss = 95786.2142 & val kl loss = 10596.1323\n",
      "epoch = 7; total train loss = 4803036.4390, train recon loss = 474923.4651, train kl loss = 53801.7789; total val loss = 965377.2134, val recon loss = 95475.8748 & val kl loss = 10618.4612\n",
      "epoch = 8; total train loss = 4791198.6597, train recon loss = 473690.1015, train kl loss = 54297.6448; total val loss = 962660.0693, val recon loss = 95189.0959 & val kl loss = 10769.1097\n",
      "epoch = 9; total train loss = 4777727.8071, train recon loss = 472254.5659, train kl loss = 55182.1509; total val loss = 960196.3975, val recon loss = 94890.1605 & val kl loss = 11294.7937\n",
      "epoch = 10; total train loss = 4767748.7690, train recon loss = 471227.9205, train kl loss = 55469.5680; total val loss = 957832.2974, val recon loss = 94679.2458 & val kl loss = 11039.8390\n",
      "epoch = 11; total train loss = 4759061.5386, train recon loss = 470382.9903, train kl loss = 55231.6410; total val loss = 956371.8687, val recon loss = 94542.3893 & val kl loss = 10947.9771\n",
      "epoch = 12; total train loss = 4750671.8140, train recon loss = 469556.4737, train kl loss = 55107.0713; total val loss = 954791.5439, val recon loss = 94379.0815 & val kl loss = 11000.7268\n",
      "epoch = 13; total train loss = 4743441.2236, train recon loss = 468894.1622, train kl loss = 54499.5898; total val loss = 953808.8062, val recon loss = 94287.9025 & val kl loss = 10929.7772\n",
      "epoch = 14; total train loss = 4737269.5737, train recon loss = 468306.8166, train kl loss = 54201.3985; total val loss = 952187.3584, val recon loss = 94124.7564 & val kl loss = 10939.7934\n",
      "epoch = 15; total train loss = 4731228.8867, train recon loss = 467757.3191, train kl loss = 53655.7069; total val loss = 952588.5938, val recon loss = 94185.0935 & val kl loss = 10737.6617\n",
      "epoch = 16; total train loss = 4725711.5371, train recon loss = 467250.8915, train kl loss = 53202.6263; total val loss = 950152.9292, val recon loss = 93924.6851 & val kl loss = 10906.0810\n",
      "epoch = 17; total train loss = 4721283.2764, train recon loss = 466838.5181, train kl loss = 52898.0974; total val loss = 949521.1675, val recon loss = 93886.8210 & val kl loss = 10652.9609\n",
      "epoch = 18; total train loss = 4715084.8911, train recon loss = 466210.3574, train kl loss = 52981.3206; total val loss = 948209.4780, val recon loss = 93761.6851 & val kl loss = 10592.6229\n",
      "epoch = 19; total train loss = 4709467.2651, train recon loss = 465629.4584, train kl loss = 53172.6726; total val loss = 947087.7275, val recon loss = 93644.8066 & val kl loss = 10639.6604\n",
      "epoch = 20; total train loss = 4704952.2090, train recon loss = 465176.3575, train kl loss = 53188.6387; total val loss = 946563.2251, val recon loss = 93604.5767 & val kl loss = 10517.4587\n",
      "epoch = 21; total train loss = 4700129.6304, train recon loss = 464698.5801, train kl loss = 53143.8277; total val loss = 947716.1807, val recon loss = 93696.0984 & val kl loss = 10755.1967\n",
      "epoch = 22; total train loss = 4696445.3115, train recon loss = 464331.5047, train kl loss = 53130.2599; total val loss = 946256.8379, val recon loss = 93576.5555 & val kl loss = 10491.2844\n",
      "epoch = 23; total train loss = 4692750.8354, train recon loss = 463954.6707, train kl loss = 53204.1224; total val loss = 945948.8374, val recon loss = 93533.4348 & val kl loss = 10614.4911\n",
      "epoch = 24; total train loss = 4689468.7617, train recon loss = 463628.8561, train kl loss = 53180.2102; total val loss = 943749.6416, val recon loss = 93301.5547 & val kl loss = 10734.0945\n",
      "epoch = 25; total train loss = 4685756.2803, train recon loss = 463266.4159, train kl loss = 53092.1262; total val loss = 944162.5508, val recon loss = 93378.9396 & val kl loss = 10373.1619\n",
      "epoch = 26; total train loss = 4683189.5850, train recon loss = 463014.0078, train kl loss = 53049.5001; total val loss = 945284.1768, val recon loss = 93447.8018 & val kl loss = 10806.1586\n",
      "epoch = 27; total train loss = 4680668.7227, train recon loss = 462780.2908, train kl loss = 52865.8140; total val loss = 942619.1328, val recon loss = 93198.6172 & val kl loss = 10632.9576\n",
      "epoch = 28; total train loss = 4678546.7769, train recon loss = 462573.1701, train kl loss = 52815.0767; total val loss = 942799.8672, val recon loss = 93226.3447 & val kl loss = 10536.4197\n",
      "epoch = 29; total train loss = 4676067.4146, train recon loss = 462332.8627, train kl loss = 52738.7822; total val loss = 942384.2681, val recon loss = 93204.6033 & val kl loss = 10338.2318\n",
      "epoch = 30; total train loss = 4673935.6196, train recon loss = 462132.2198, train kl loss = 52613.4203; total val loss = 941850.7251, val recon loss = 93127.9127 & val kl loss = 10571.6034\n",
      "epoch = 31; total train loss = 4672183.6064, train recon loss = 461949.0654, train kl loss = 52692.9464; total val loss = 941412.5889, val recon loss = 93093.4418 & val kl loss = 10478.1687\n",
      "epoch = 32; total train loss = 4669402.8818, train recon loss = 461657.8180, train kl loss = 52824.6961; total val loss = 941204.9741, val recon loss = 93056.4338 & val kl loss = 10640.6334\n",
      "epoch = 33; total train loss = 4667913.7422, train recon loss = 461511.0132, train kl loss = 52803.6143; total val loss = 940371.4980, val recon loss = 92994.0703 & val kl loss = 10430.7941\n",
      "epoch = 34; total train loss = 4664986.8799, train recon loss = 461202.1497, train kl loss = 52965.3765; total val loss = 940110.5249, val recon loss = 92958.5790 & val kl loss = 10524.7351\n",
      "epoch = 35; total train loss = 4663625.8174, train recon loss = 461068.7478, train kl loss = 52938.3411; total val loss = 940043.0239, val recon loss = 92944.1013 & val kl loss = 10602.0076\n",
      "epoch = 36; total train loss = 4661999.2026, train recon loss = 460903.7657, train kl loss = 52961.5463; total val loss = 940077.0483, val recon loss = 92946.1688 & val kl loss = 10615.3607\n",
      "epoch = 37; total train loss = 4659990.8662, train recon loss = 460694.6543, train kl loss = 53044.3237; total val loss = 940074.3022, val recon loss = 92949.4231 & val kl loss = 10580.0752\n",
      "epoch = 38; total train loss = 4658320.7300, train recon loss = 460531.9260, train kl loss = 53001.4628; total val loss = 939950.3003, val recon loss = 92936.4970 & val kl loss = 10585.3238\n",
      "epoch = 39; total train loss = 4656369.4731, train recon loss = 460341.7907, train kl loss = 52951.5648; total val loss = 939336.7803, val recon loss = 92865.0087 & val kl loss = 10686.6930\n",
      "epoch = 40; total train loss = 4654916.0713, train recon loss = 460191.0576, train kl loss = 53005.4908; total val loss = 938892.1206, val recon loss = 92827.6665 & val kl loss = 10615.4537\n",
      "epoch = 41; total train loss = 4653409.9316, train recon loss = 460037.8336, train kl loss = 53031.5984; total val loss = 939121.2920, val recon loss = 92858.5344 & val kl loss = 10535.9465\n",
      "epoch = 42; total train loss = 4652179.6479, train recon loss = 459915.1031, train kl loss = 53028.6160; total val loss = 938824.3857, val recon loss = 92821.3815 & val kl loss = 10610.5747\n",
      "epoch = 43; total train loss = 4650176.3398, train recon loss = 459709.9523, train kl loss = 53076.8132; total val loss = 939195.6909, val recon loss = 92866.5845 & val kl loss = 10529.8440\n",
      "epoch = 44; total train loss = 4649288.8989, train recon loss = 459621.3162, train kl loss = 53075.7357; total val loss = 941624.7603, val recon loss = 93084.5953 & val kl loss = 10778.8037\n"
     ]
    },
    {
     "name": "stdout",
     "output_type": "stream",
     "text": [
      "epoch = 45; total train loss = 4647513.5771, train recon loss = 459443.0775, train kl loss = 53082.8037; total val loss = 938737.4810, val recon loss = 92792.1020 & val kl loss = 10816.4598\n",
      "epoch = 46; total train loss = 4646445.3745, train recon loss = 459332.8193, train kl loss = 53117.1799; total val loss = 939157.9629, val recon loss = 92868.7177 & val kl loss = 10470.7874\n",
      "epoch = 47; total train loss = 4644772.6558, train recon loss = 459168.3578, train kl loss = 53089.0719; total val loss = 939190.8120, val recon loss = 92842.8959 & val kl loss = 10761.8434\n",
      "epoch = 48; total train loss = 4644081.4243, train recon loss = 459093.2146, train kl loss = 53149.2711; total val loss = 938647.0156, val recon loss = 92792.4196 & val kl loss = 10722.8170\n",
      "epoch = 49; total train loss = 4642136.2739, train recon loss = 458897.0489, train kl loss = 53165.7752; total val loss = 939009.2734, val recon loss = 92848.1384 & val kl loss = 10527.8929\n",
      "epoch = 50; total train loss = 4641462.1099, train recon loss = 458828.4005, train kl loss = 53178.1128; total val loss = 938651.7583, val recon loss = 92792.0376 & val kl loss = 10731.3826\n"
     ]
    }
   ],
   "source": [
    "for epoch in range(1, num_epochs + 1):\n",
    "    \"\"\"\n",
    "    # Manual early stopping implementation-\n",
    "    if loc_patience >= patience:\n",
    "        print(\"\\n'EarlyStopping' called!\\n\")\n",
    "        break\n",
    "    \"\"\"\n",
    "\n",
    "    # Epoch train & validation losses-\n",
    "    train_loss = 0.0\n",
    "    train_r_loss = 0.0\n",
    "    train_kl_l = 0.0\n",
    "    val_loss = 0.0\n",
    "    val_r_loss = 0.0\n",
    "    val_kl_l = 0.0\n",
    "    \n",
    "    for data in train_dataset:\n",
    "        train_total_loss, train_recon_loss, train_kl_loss = train_one_step(\n",
    "            model = model, optimizer = optimizer,\n",
    "            data = list(data), alpha = alpha\n",
    "        )\n",
    "        \n",
    "        train_loss += train_total_loss.numpy()\n",
    "        train_r_loss += train_recon_loss.numpy()\n",
    "        train_kl_l += train_kl_loss.numpy()\n",
    "    \n",
    "    for test_data in test_dataset:\n",
    "        test_total_loss, test_recon_loss, test_kl_loss = test_step(\n",
    "            model = model, optimizer = optimizer,\n",
    "            data = test_data, alpha = alpha)\n",
    "        \n",
    "        val_loss += test_total_loss.numpy()\n",
    "        val_r_loss += test_recon_loss.numpy()\n",
    "        val_kl_l += test_kl_loss.numpy()\n",
    "    \n",
    "    # vae_train_loss.append(train_loss)\n",
    "    # vae_val_loss.append(val_loss)\n",
    "\n",
    "    training_metrics[epoch] = {\n",
    "        'total_loss': train_loss, 'recon_loss': train_r_loss,\n",
    "        'kl_loss': train_kl_l\n",
    "        }\n",
    "    \n",
    "    val_metrics[epoch] = {\n",
    "        'total_loss': val_loss, 'recon_loss': val_r_loss,\n",
    "        'kl_loss': val_kl_l\n",
    "    }\n",
    "\n",
    "    print(f\"epoch = {epoch}; total train loss = {train_loss:.4f},\"\n",
    "    f\" train recon loss = {train_r_loss:.4f}, train kl loss = {train_kl_l:.4f};\"\n",
    "    f\" total val loss = {val_loss:.4f}, val recon loss = {val_r_loss:.4f} &\"\n",
    "    f\" val kl loss = {val_kl_l:.4f}\"\n",
    "    )"
   ]
  },
  {
   "cell_type": "code",
   "execution_count": 22,
   "metadata": {},
   "outputs": [],
   "source": [
    "# model.save('vgg_based_250')"
   ]
  },
  {
   "cell_type": "code",
   "execution_count": 23,
   "metadata": {},
   "outputs": [
    {
     "data": {
      "text/plain": [
       "(50000, 32, 32, 3)"
      ]
     },
     "execution_count": 23,
     "metadata": {},
     "output_type": "execute_result"
    }
   ],
   "source": [
    "X_train.shape"
   ]
  },
  {
   "cell_type": "code",
   "execution_count": 24,
   "metadata": {},
   "outputs": [
    {
     "data": {
      "text/plain": [
       "(2000, 10)"
      ]
     },
     "execution_count": 24,
     "metadata": {},
     "output_type": "execute_result"
    }
   ],
   "source": [
    "x_data = X_test[:2000]\n",
    "y_data = y_test[:2000]\n",
    "y_data.shape"
   ]
  },
  {
   "cell_type": "code",
   "execution_count": 25,
   "metadata": {},
   "outputs": [
    {
     "data": {
      "text/plain": [
       "array([1., 0., 0., 0., 0., 0., 0., 0., 0., 0.], dtype=float32)"
      ]
     },
     "execution_count": 25,
     "metadata": {},
     "output_type": "execute_result"
    }
   ],
   "source": [
    "y_data[10]"
   ]
  },
  {
   "cell_type": "code",
   "execution_count": 26,
   "metadata": {
    "scrolled": true
   },
   "outputs": [
    {
     "data": {
      "text/plain": [
       "<matplotlib.image.AxesImage at 0x7f47fc50dd60>"
      ]
     },
     "execution_count": 26,
     "metadata": {},
     "output_type": "execute_result"
    },
    {
     "data": {
      "image/png": "[encoded data removed]",
      "text/plain": [
       "<Figure size 432x288 with 1 Axes>"
      ]
     },
     "metadata": {
      "needs_background": "light"
     },
     "output_type": "display_data"
    }
   ],
   "source": [
    "%matplotlib inline\n",
    "j = 278\n",
    "x, mu, log_var, z = model.predict([x_data[j].reshape(1,32,32,3), y_data[j].reshape(1,10)])\n",
    "plt.imshow(x_data[j])"
   ]
  },
  {
   "cell_type": "code",
   "execution_count": 27,
   "metadata": {},
   "outputs": [
    {
     "data": {
      "text/plain": [
       "<matplotlib.image.AxesImage at 0x7f47fc46edc0>"
      ]
     },
     "execution_count": 27,
     "metadata": {},
     "output_type": "execute_result"
    },
    {
     "data": {
      "image/png": "[encoded data removed]",
      "text/plain": [
       "<Figure size 432x288 with 1 Axes>"
      ]
     },
     "metadata": {
      "needs_background": "light"
     },
     "output_type": "display_data"
    }
   ],
   "source": [
    "plt.imshow(x[0])"
   ]
  },
  {
   "cell_type": "code",
   "execution_count": 28,
   "metadata": {},
   "outputs": [
    {
     "data": {
      "text/plain": [
       "<matplotlib.image.AxesImage at 0x7f47fc3ea460>"
      ]
     },
     "execution_count": 28,
     "metadata": {},
     "output_type": "execute_result"
    },
    {
     "data": {
      "image/png": "[encoded data removed]",
      "text/plain": [
       "<Figure size 144x144 with 1 Axes>"
      ]
     },
     "metadata": {
      "needs_background": "light"
     },
     "output_type": "display_data"
    }
   ],
   "source": [
    "from PIL import Image, ImageEnhance\n",
    "z_ex = np.random.normal(0, 1, (1,100))\n",
    "y = y_data[10].reshape(1,10)\n",
    "z_ex.shape\n",
    "out = tf.keras.activations.sigmoid(model.decoder([z_ex, y]))\n",
    "im = tf.keras.preprocessing.image.array_to_img(out[0])\n",
    "enhancer = ImageEnhance.Sharpness(im)\n",
    "\n",
    "factor = 5\n",
    "im_s_1 = enhancer.enhance(factor)\n",
    "\n",
    "plt.figure(figsize=(2,2))\n",
    "plt.imshow(im_s_1)"
   ]
  },
  {
   "cell_type": "code",
   "execution_count": 29,
   "metadata": {},
   "outputs": [],
   "source": [
    "recon = list()\n",
    "tot = list()\n",
    "kl = list()\n",
    "for i in range(50):\n",
    "    recon.append(training_metrics[i+1]['recon_loss'])\n",
    "    tot.append(training_metrics[i+1]['total_loss'])\n",
    "    kl.append(training_metrics[i+1]['kl_loss'])\n",
    "\n",
    "\n"
   ]
  },
  {
   "cell_type": "code",
   "execution_count": 30,
   "metadata": {},
   "outputs": [
    {
     "data": {
      "text/plain": [
       "[<matplotlib.lines.Line2D at 0x7f47fc3b5ee0>]"
      ]
     },
     "execution_count": 30,
     "metadata": {},
     "output_type": "execute_result"
    },
    {
     "data": {
      "image/png": "[encoded data removed]",
      "text/plain": [
       "<Figure size 432x288 with 1 Axes>"
      ]
     },
     "metadata": {
      "needs_background": "light"
     },
     "output_type": "display_data"
    }
   ],
   "source": [
    "plt.plot(recon)"
   ]
  },
  {
   "cell_type": "code",
   "execution_count": 31,
   "metadata": {},
   "outputs": [
    {
     "data": {
      "text/plain": [
       "[<matplotlib.lines.Line2D at 0x7f47fc32e160>]"
      ]
     },
     "execution_count": 31,
     "metadata": {},
     "output_type": "execute_result"
    },
    {
     "data": {
      "image/png": "[encoded data removed]",
      "text/plain": [
       "<Figure size 432x288 with 1 Axes>"
      ]
     },
     "metadata": {
      "needs_background": "light"
     },
     "output_type": "display_data"
    }
   ],
   "source": [
    "plt.plot(tot)"
   ]
  },
  {
   "cell_type": "code",
   "execution_count": 32,
   "metadata": {},
   "outputs": [
    {
     "data": {
      "text/plain": [
       "[<matplotlib.lines.Line2D at 0x7f47fc28d460>]"
      ]
     },
     "execution_count": 32,
     "metadata": {},
     "output_type": "execute_result"
    },
    {
     "data": {
      "image/png": "[encoded data removed]",
      "text/plain": [
       "<Figure size 432x288 with 1 Axes>"
      ]
     },
     "metadata": {
      "needs_background": "light"
     },
     "output_type": "display_data"
    }
   ],
   "source": [
    "plt.plot(kl)"
   ]
  },
  {
   "cell_type": "code",
   "execution_count": null,
   "metadata": {},
   "outputs": [],
   "source": []
  }
 ],
 "metadata": {
  "kernelspec": {
   "display_name": "Python 3",
   "language": "python",
   "name": "python3"
  },
  "language_info": {
   "codemirror_mode": {
    "name": "ipython",
    "version": 3
   },
   "file_extension": ".py",
   "mimetype": "text/x-python",
   "name": "python",
   "nbconvert_exporter": "python",
   "pygments_lexer": "ipython3",
   "version": "3.8.10"
  }
 },
 "nbformat": 4,
 "nbformat_minor": 5
}
