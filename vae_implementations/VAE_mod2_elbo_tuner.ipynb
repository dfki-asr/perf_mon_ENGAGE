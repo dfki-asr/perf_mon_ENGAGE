{
 "cells": [
  {
   "cell_type": "code",
   "execution_count": 1,
   "metadata": {},
   "outputs": [],
   "source": [
    "import os\n",
    "os.environ[\"CUDA_VISIBLE_DEVICES\"]=\"1\""
   ]
  },
  {
   "cell_type": "code",
   "execution_count": 2,
   "metadata": {},
   "outputs": [],
   "source": [
    "import tensorflow as tf\n",
    "gpus = tf.config.experimental.list_physical_devices('GPU')\n",
    "if gpus:\n",
    "  try:\n",
    "    tf.config.experimental.set_virtual_device_configuration(\n",
    "        gpus[0],[tf.config.experimental.VirtualDeviceConfiguration(memory_limit=5120)])\n",
    "  except RuntimeError as e:\n",
    "    print(e)"
   ]
  },
  {
   "cell_type": "code",
   "execution_count": 3,
   "metadata": {},
   "outputs": [],
   "source": [
    "import tensorflow\n",
    "from tensorflow import keras\n",
    "from tensorflow.keras import layers\n",
    "from tensorflow.keras.layers import Conv2D, Conv2DTranspose, Dense, Input, Flatten,\\\n",
    "Conv2DTranspose, BatchNormalization, LeakyReLU, Reshape, MaxPooling2D, UpSampling2D\n",
    "from tensorflow.keras.models import Sequential, Model\n",
    "from tensorflow.keras.datasets import cifar10, mnist\n",
    "import tensorflow.keras.backend as K\n",
    "import tensorflow as tf\n",
    "import tensorflow_probability as tfp\n",
    "import numpy as np\n",
    "import matplotlib.pyplot as plt\n",
    "import keras_tuner\n",
    "import time\n",
    "# import plotly\n",
    "# import plotly.express as px"
   ]
  },
  {
   "cell_type": "code",
   "execution_count": 4,
   "metadata": {},
   "outputs": [
    {
     "name": "stdout",
     "output_type": "stream",
     "text": [
      "\n",
      "Dimensions of training and testing sets are:\n",
      "X_train.shape: (50000, 32, 32, 1) & X_test.shape: (10000, 32, 32, 1)\n"
     ]
    }
   ],
   "source": [
    "# input image dimensions\n",
    "img_rows, img_cols = 32, 32\n",
    "img_chn = 1\n",
    "\n",
    "# Load CIFAR-10 dataset-\n",
    "(x_train, y_train), (x_test, y_test) = cifar10.load_data()\n",
    "if img_chn == 1:\n",
    "    x_train = x_train.mean(axis=3)                                                                                    \n",
    "    x_test = x_test.mean(axis=3)           \n",
    "    \n",
    "input_shape = (img_rows, img_cols, img_chn)\n",
    "\n",
    "# Convert datasets to floating point types-\n",
    "x_train = x_train.astype('float32')\n",
    "x_test = x_test.astype('float32')\n",
    "\n",
    "# Normalize the training and testing datasets-\n",
    "if img_chn == 1:\n",
    "    x_train = x_train.reshape((x_train.shape[0], \\\n",
    "                                         img_rows, img_rows, img_chn)) / 255.\n",
    "    x_test = x_test.reshape((x_test.shape[0], \\\n",
    "                                      img_rows, img_rows, img_chn)) / 255.\n",
    "else:\n",
    "    x_train = x_train/255.\n",
    "    x_test = x_test/255.\n",
    "\n",
    "\n",
    "print(\"\\nDimensions of training and testing sets are:\")\n",
    "print(f\"X_train.shape: {x_train.shape} & X_test.shape: {x_test.shape}\")\n",
    "\n",
    "load_outlier_detector = True\n",
    "\n",
    "latent_dim = 2\n",
    "epochs =20"
   ]
  },
  {
   "cell_type": "code",
   "execution_count": 5,
   "metadata": {},
   "outputs": [
    {
     "data": {
      "text/plain": [
       "(1563,)"
      ]
     },
     "execution_count": 5,
     "metadata": {},
     "output_type": "execute_result"
    }
   ],
   "source": [
    "def batch_creation(X_data, batch_size):\n",
    "    end = X_data.shape[0]-1\n",
    "    start = 0\n",
    "    batch_split_X = list()\n",
    "    while start < end:\n",
    "        img_slice = np.array(X_data[start:start+batch_size])\n",
    "        batch_split_X.append(img_slice)\n",
    "        start = start + batch_size\n",
    "    return np.array(batch_split_X, dtype=object)\n",
    "    \n",
    "train_dataset = batch_creation(x_train, 32)\n",
    "test_dataset = batch_creation(x_test, 32)\n",
    "train_dataset.shape"
   ]
  },
  {
   "cell_type": "code",
   "execution_count": 6,
   "metadata": {},
   "outputs": [],
   "source": [
    "def plot_latent_images(model, n, epoch, im_size=32, save=True, first_epoch=False, f_ep_count=0):\n",
    "    \n",
    "    # Create image matrix \n",
    "    image_width = im_size*n\n",
    "    image_height = image_width\n",
    "    image = np.zeros((image_height, image_width, img_chn))\n",
    "\n",
    "    # Create list of values which are evenly spaced wrt probability mass\n",
    "\n",
    "    norm = tfp.distributions.Normal(0, 1)\n",
    "    grid_x = norm.quantile(np.linspace(0.05, 0.95, n))\n",
    "    grid_y = norm.quantile(np.linspace(0.05, 0.95, n))\n",
    "    \n",
    "    # For each point on the grid in the latent space, decode and\n",
    "\n",
    "    # copy the image into the image array\n",
    "    for i, yi in enumerate(grid_x):\n",
    "        for j, xi in enumerate(grid_y):\n",
    "            z = np.array([[xi, yi]])\n",
    "            x_decoded = model.sample(z)\n",
    "            digit = tf.reshape(x_decoded[0], (im_size, im_size, img_chn))\n",
    "            image[i * im_size: (i + 1) * im_size,\n",
    "                  j * im_size: (j + 1) * im_size] = digit.numpy()\n",
    "    \n",
    "\n",
    "    # Plot the image array\n",
    "    plt.figure(figsize=(10, 10))\n",
    "    plt.imshow(image, cmap='Greys_r')\n",
    "    plt.axis('Off')\n",
    "\n",
    "\n",
    "    # Potentially save, with different formatting if within first epoch\n",
    "#     if save and first_epoch:\n",
    "#         plt.savefig('tf_grid_at_epoch_{:04d}.{:04d}.png'.format(epoch, f_ep_count))\n",
    "#     elif save:\n",
    "#         plt.savefig('tf_grid_at_epoch_{:04d}.png'.format(epoch))\n",
    "    plt.show()"
   ]
  },
  {
   "cell_type": "code",
   "execution_count": 7,
   "metadata": {},
   "outputs": [],
   "source": [
    "\n",
    "def log_normal_pdf(sample, mean, logvar, raxis=1):\n",
    "    log2pi = tf.math.log(2. * np.pi)\n",
    "    return tf.reduce_sum(\n",
    "        -.5 * ((sample - mean) ** 2. * tf.exp(-logvar) + logvar + log2pi),\n",
    "        axis=raxis)\n",
    "\n",
    "def compute_loss(model, x):\n",
    "    mean, logvar, z = model.encode(x)\n",
    "    x_logit = model.decode(z)\n",
    "    cross_ent = tf.nn.sigmoid_cross_entropy_with_logits(logits=x_logit, labels=x)\n",
    "    logpx_z = -tf.reduce_sum(cross_ent, axis=[1, 2, 3])\n",
    "    logpz = log_normal_pdf(z, 0., 0.)\n",
    "    logqz_x = log_normal_pdf(z, mean, logvar)\n",
    "    return -tf.reduce_mean(logpx_z + logpz - logqz_x)"
   ]
  },
  {
   "cell_type": "code",
   "execution_count": 8,
   "metadata": {},
   "outputs": [],
   "source": [
    "class Sampling(layers.Layer):\n",
    "    \"\"\"Uses (z_mean, z_log_var) to sample z, the vector encoding a digit.\"\"\"\n",
    "\n",
    "    def call(self, inputs):\n",
    "        z_mean, z_log_var = inputs\n",
    "        batch = tf.shape(z_mean)[0]\n",
    "        dim = tf.shape(z_mean)[1]\n",
    "        epsilon = tf.keras.backend.random_normal(shape=(batch, dim))\n",
    "        return z_mean + tf.exp(0.5 * z_log_var) * epsilon\n",
    "    \n",
    "latent_dim = 2\n",
    "# input image dimensions\n",
    "img_rows, img_cols = 32, 32\n",
    "img_chn = 1"
   ]
  },
  {
   "cell_type": "code",
   "execution_count": 9,
   "metadata": {},
   "outputs": [],
   "source": [
    "class Encoder(tf.keras.Model):\n",
    "    def __init__(self,hp):\n",
    "        super(Encoder, self).__init__()\n",
    "        self.conv1 = tf.keras.layers.Conv2D(filters=hp.Int('conv_1_filter', min_value=32, max_value=128, step=16),\n",
    "        # adding filter size or kernel size\n",
    "        kernel_size=hp.Choice('conv_1_kernel', values = [3,5]),\\\n",
    "        #activation function\n",
    "        activation='relu',input_shape=(32,32,1))\n",
    "        self.conv2 = tf.keras.layers.Conv2D(filters=hp.Int('conv_2_filter', min_value=32, max_value=128, step=16),\n",
    "        # adding filter size or kernel size\n",
    "        kernel_size=hp.Choice('conv_2_kernel', values = [3,5]),\\\n",
    "        #activation function\n",
    "        activation='relu')\n",
    "        self.conv3 = tf.keras.layers.Conv2D(filters=hp.Int('conv_3_filter', min_value=32, max_value=128, step=16),\n",
    "        # adding filter size or kernel size\n",
    "        kernel_size=hp.Choice('conv_3_kernel', values = [3,5]),\\\n",
    "        #activation function\n",
    "        activation='relu')\n",
    "        self.flat1 = tf.keras.layers.Flatten()\n",
    "        self.dens1 = tf.keras.layers.Dense(2)\n",
    "        self.dens2 = tf.keras.layers.Dense(2)\n",
    "        self.sampl = Sampling()\n",
    "        \n",
    "    def call(self, inputs):\n",
    "        x = self.conv1(inputs)\n",
    "        x = self.conv2(x)\n",
    "        x = self.conv3(x)\n",
    "        x = self.flat1(x)\n",
    "        mu = self.dens1(x)\n",
    "        va = self.dens2(x)\n",
    "        z = self.sampl([mu,va])\n",
    "        \n",
    "        return mu, va, z\n",
    "    \n",
    "    def model(self):\n",
    "        x = Input(shape=(32,32,1))\n",
    "        return Model(inputs=[x], outputs=self.call(x))\n",
    "    \n",
    "class Decoder(tf.keras.Model):\n",
    "    def __init__(self, ):\n",
    "        super(Decoder, self).__init__()\n",
    "        self.dens3 = tf.keras.layers.Dense(units=4*4*128, activation=tf.nn.relu, input_shape=(2,))\n",
    "        self.resh1 = tf.keras.layers.Reshape(target_shape=(4, 4, 128))\n",
    "        self.deco1 = tf.keras.layers.Conv2DTranspose(64, 3, strides=2, padding='same',  activation=tf.nn.relu)\n",
    "        self.deco2 = tf.keras.layers.Conv2DTranspose(32, 3, strides=2, padding='same',  activation=tf.nn.relu)\n",
    "        # No activation\n",
    "        self.deco3 = tf.keras.layers.Conv2DTranspose(img_chn, 3, strides=2, padding='same')\n",
    "        \n",
    "    def call(self, inp):\n",
    "        x = self.dens3(inp)\n",
    "        x = self.resh1(x)\n",
    "        x = self.deco1(x)\n",
    "        x = self.deco2(x)\n",
    "        x = self.deco3(x)\n",
    "        return x\n",
    "    \n",
    "    def model(self):\n",
    "        x = Input(shape=(2))\n",
    "        return Model(inputs=[x], outputs=self.call(x))"
   ]
  },
  {
   "cell_type": "code",
   "execution_count": 10,
   "metadata": {},
   "outputs": [],
   "source": [
    "class AE(tf.keras.Model):\n",
    "    def __init__(self,hp):\n",
    "        super(AE, self).__init__()\n",
    "        self.encoder = Encoder(hp)\n",
    "        self.decoder = Decoder()\n",
    "\n",
    "    def call(self, inp):\n",
    "        mu, va, z = self.encoder(inp)\n",
    "        out_decoder = self.decoder(z)\n",
    "        return z, out_decoder \n",
    "    \n",
    "    def model(self):\n",
    "        x = Input(shape=(img_rows,img_cols,img_chn))\n",
    "        return Model(inputs=[x], outputs=self.call(x))\n",
    "    \n",
    "    def encode(self, img):\n",
    "        return self.encoder(img)\n",
    "    \n",
    "    def decode(self, z, apply_sigmoid=False):\n",
    "        logits = self.decoder(z)\n",
    "        if apply_sigmoid:\n",
    "            probs = tf.sigmoid(logits)\n",
    "            return probs\n",
    "        return logits\n",
    "    \n",
    "    @tf.function\n",
    "    def sample(self, z=None):\n",
    "        if z is None:\n",
    "            z = tf.random.normal(shape=(100, latent_dim))\n",
    "        return self.decode(z, apply_sigmoid=True)\n",
    "    \n",
    "#     @tf.function\n",
    "#     def train_step(self, x, optimizer):\n",
    "#         \"\"\"Executes one training step and returns the loss.\n",
    "\n",
    "#         This function computes the loss and gradients, and uses the latter to\n",
    "#         update the model's parameters.\n",
    "#         \"\"\"\n",
    "#         with tf.GradientTape() as tape:\n",
    "#             loss = compute_loss(model, x)\n",
    "#         gradients = tape.gradient(loss, model.trainable_variables)\n",
    "#         optimizer.apply_gradients(zip(gradients, model.trainable_variables))"
   ]
  },
  {
   "cell_type": "code",
   "execution_count": 11,
   "metadata": {},
   "outputs": [],
   "source": [
    "class CVAE_Hypermodel(keras_tuner.HyperModel):\n",
    "    def build(self, hp):\n",
    "        return AE(hp)\n",
    "    \n",
    "    @tf.function\n",
    "    def sample(self, z=None):\n",
    "        if z is None:\n",
    "            z = tf.random.normal(shape=(100, self.latent_dim))\n",
    "        return self.decode(z, apply_sigmoid=True)\n",
    "\n",
    "    def fit(self, hp, model, x, y, validation_data, callbacks=None, **kwargs):\n",
    "        # Convert the datasets to tf.data.Dataset.\n",
    "        batch_size = hp.Int(\"batch_size\", 32, 128, step=32, default=64)\n",
    "        train_ds = tf.data.Dataset.from_tensor_slices((x, y)).batch(\n",
    "            batch_size)\n",
    "        validation_data = tf.data.Dataset.from_tensor_slices(validation_data).batch(\n",
    "            batch_size\n",
    "        )\n",
    "\n",
    "\n",
    "#         loss_fn = keras.losses.SparseCategoricalCrossentropy(from_logits=True)\n",
    "        loss_fn = compute_loss\n",
    "\n",
    "        # The metric to track validation loss.\n",
    "        epoch_loss_metric = keras.metrics.Mean()\n",
    "        \n",
    "        @tf.function\n",
    "        def run_train_step(x, optimizer):\n",
    "            \"\"\"Executes one training step and returns the loss.\n",
    "\n",
    "            This function computes the loss and gradients, and uses the latter to\n",
    "            update the model's parameters.\n",
    "            \"\"\"\n",
    "            with tf.GradientTape() as tape:\n",
    "                loss = loss_fn(model, x)\n",
    "                if model.losses:\n",
    "                    loss += tf.math.add_n(model.losses) \n",
    "            gradients = tape.gradient(loss, model.trainable_variables)\n",
    "            optimizer.apply_gradients(zip(gradients, model.trainable_variables))\n",
    "            \n",
    "#         # Function to run the validation step.\n",
    "# #         @tf.function\n",
    "# #         def run_val_step(images, labels):\n",
    "# #             logits = model(images)\n",
    "# #             loss = loss_fn(labels, logits)\n",
    "# #             # Update the metric.\n",
    "# #             epoch_loss_metric.update_state(loss)\n",
    "\n",
    "        # Assign the model to the callbacks.\n",
    "        for callback in callbacks:\n",
    "            callback.model = model\n",
    "\n",
    "        # Record the best validation loss value\n",
    "        best_epoch_loss = float(\"inf\")\n",
    "\n",
    "        # Define the optimizer.\n",
    "        optimizer = keras.optimizers.Adam(\n",
    "            hp.Float(\"learning_rate\", 1e-4, 1e-2, sampling=\"log\", default=1e-3)\n",
    "        )\n",
    "        \n",
    "        # The custom training and validation loop.\n",
    "        for epoch in range(1, epochs + 1):\n",
    "            start_time = time.time()\n",
    "            for idx, train_x in enumerate(train_dataset):\n",
    "                run_train_step(train_x, optimizer)\n",
    "                if epoch == 1 and idx % 75 == 0:\n",
    "                    plot_latent_images(model, 10, epoch=epoch, first_epoch=True, f_ep_count=idx)          \n",
    "            end_time = time.time()\n",
    "            loss = tf.keras.metrics.Mean()  # chooses MEAN as the reduction strategy between epochs\n",
    "\n",
    "            for test_x in test_dataset:\n",
    "                loss(compute_loss(model, test_x))  # mean of the compute_loss\n",
    "            elbo = -loss.result()\n",
    "            #display.clear_output(wait=False)\n",
    "            print('Epoch: {}, Test set ELBO: {}, time elapse for current epoch: {}'\n",
    "                .format(epoch, elbo, end_time - start_time))\n",
    "            if epoch != 1:\n",
    "                plot_latent_images(model, 20, epoch=epoch)\n",
    "\n",
    "            # Calling the callbacks after epoch.\n",
    "            epoch_loss = float(elbo)\n",
    "            for callback in callbacks:\n",
    "                # The \"my_metric\" is the objective passed to the tuner.\n",
    "                callback.on_epoch_end(epoch, logs={\"my_metric\": epoch_loss})\n",
    "            epoch_loss_metric.reset_states()\n",
    "\n",
    "            print(f\"Epoch loss: {epoch_loss}\")\n",
    "            best_epoch_loss = min(best_epoch_loss, epoch_loss)\n",
    "\n",
    "        # Return the evaluation metric value.\n",
    "        return best_epoch_loss\n",
    "\n",
    "            \n",
    "        \n"
   ]
  },
  {
   "cell_type": "code",
   "execution_count": 12,
   "metadata": {},
   "outputs": [],
   "source": [
    "h_model = CVAE_Hypermodel() "
   ]
  },
  {
   "cell_type": "code",
   "execution_count": 13,
   "metadata": {
    "scrolled": true
   },
   "outputs": [
    {
     "name": "stdout",
     "output_type": "stream",
     "text": [
      "Model: \"model\"\n",
      "_________________________________________________________________\n",
      " Layer (type)                Output Shape              Param #   \n",
      "=================================================================\n",
      " input_1 (InputLayer)        [(None, 32, 32, 1)]       0         \n",
      "                                                                 \n",
      " encoder (Encoder)           ((None, 2),               105348    \n",
      "                              (None, 2),                         \n",
      "                              (None, 2))                         \n",
      "                                                                 \n",
      " decoder (Decoder)           (None, 32, 32, 1)         98689     \n",
      "                                                                 \n",
      "=================================================================\n",
      "Total params: 204,037\n",
      "Trainable params: 204,037\n",
      "Non-trainable params: 0\n",
      "_________________________________________________________________\n",
      "***********************************\n",
      "********************************\n",
      "))\n",
      "Model: \"model_1\"\n",
      "__________________________________________________________________________________________________\n",
      " Layer (type)                   Output Shape         Param #     Connected to                     \n",
      "==================================================================================================\n",
      " input_2 (InputLayer)           [(None, 32, 32, 1)]  0           []                               \n",
      "                                                                                                  \n",
      " conv2d (Conv2D)                (None, 30, 30, 32)   320         ['input_2[0][0]']                \n",
      "                                                                                                  \n",
      " conv2d_1 (Conv2D)              (None, 28, 28, 32)   9248        ['conv2d[0][0]']                 \n",
      "                                                                                                  \n",
      " conv2d_2 (Conv2D)              (None, 26, 26, 32)   9248        ['conv2d_1[0][0]']               \n",
      "                                                                                                  \n",
      " flatten (Flatten)              (None, 21632)        0           ['conv2d_2[0][0]']               \n",
      "                                                                                                  \n",
      " dense (Dense)                  (None, 2)            43266       ['flatten[0][0]']                \n",
      "                                                                                                  \n",
      " dense_1 (Dense)                (None, 2)            43266       ['flatten[0][0]']                \n",
      "                                                                                                  \n",
      " sampling (Sampling)            (None, 2)            0           ['dense[0][0]',                  \n",
      "                                                                  'dense_1[0][0]']                \n",
      "                                                                                                  \n",
      "==================================================================================================\n",
      "Total params: 105,348\n",
      "Trainable params: 105,348\n",
      "Non-trainable params: 0\n",
      "__________________________________________________________________________________________________\n",
      "***********************************\n",
      "********************************\n",
      "))\n",
      "Model: \"model_2\"\n",
      "_________________________________________________________________\n",
      " Layer (type)                Output Shape              Param #   \n",
      "=================================================================\n",
      " input_3 (InputLayer)        [(None, 2)]               0         \n",
      "                                                                 \n",
      " dense_2 (Dense)             (None, 2048)              6144      \n",
      "                                                                 \n",
      " reshape (Reshape)           (None, 4, 4, 128)         0         \n",
      "                                                                 \n",
      " conv2d_transpose (Conv2DTra  (None, 8, 8, 64)         73792     \n",
      " nspose)                                                         \n",
      "                                                                 \n",
      " conv2d_transpose_1 (Conv2DT  (None, 16, 16, 32)       18464     \n",
      " ranspose)                                                       \n",
      "                                                                 \n",
      " conv2d_transpose_2 (Conv2DT  (None, 32, 32, 1)        289       \n",
      " ranspose)                                                       \n",
      "                                                                 \n",
      "=================================================================\n",
      "Total params: 98,689\n",
      "Trainable params: 98,689\n",
      "Non-trainable params: 0\n",
      "_________________________________________________________________\n"
     ]
    }
   ],
   "source": [
    "hp = keras_tuner.HyperParameters()\n",
    "model = h_model.build(hp)\n",
    "model.model().summary()\n",
    "print(\"***********************************\\n********************************\\n))\")\n",
    "model.encoder.model().summary()\n",
    "print(\"***********************************\\n********************************\\n))\")\n",
    "model.decoder.model().summary()"
   ]
  },
  {
   "cell_type": "code",
   "execution_count": 15,
   "metadata": {},
   "outputs": [],
   "source": [
    "tuner = keras_tuner.RandomSearch(\n",
    "    objective=keras_tuner.Objective(\"my_metric\", \"min\"),\n",
    "    max_trials=2,\n",
    "    hypermodel=CVAE_Hypermodel(),\n",
    "    directory=\"results\",\n",
    "    project_name=\"custom_training\",\n",
    "    overwrite=True,\n",
    ")"
   ]
  },
  {
   "cell_type": "code",
   "execution_count": 16,
   "metadata": {
    "scrolled": true
   },
   "outputs": [
    {
     "name": "stdout",
     "output_type": "stream",
     "text": [
      "Trial 2 Complete [00h 06m 05s]\n",
      "my_metric: -659.1856689453125\n",
      "\n",
      "Best my_metric So Far: -659.1856689453125\n",
      "Total elapsed time: 00h 10m 56s\n",
      "INFO:tensorflow:Oracle triggered exit\n"
     ]
    }
   ],
   "source": [
    "import time\n",
    "tuner.search(x=x_train, y=y_train, validation_data=(x_test, y_test))"
   ]
  },
  {
   "cell_type": "code",
   "execution_count": 19,
   "metadata": {},
   "outputs": [
    {
     "name": "stdout",
     "output_type": "stream",
     "text": [
      "Results summary\n",
      "Results in results/custom_training\n",
      "Showing 10 best trials\n",
      "<keras_tuner.engine.objective.Objective object at 0x7f568853af10>\n",
      "Trial summary\n",
      "Hyperparameters:\n",
      "conv_1_filter: 48\n",
      "conv_1_kernel: 5\n",
      "conv_2_filter: 48\n",
      "conv_2_kernel: 3\n",
      "conv_3_filter: 112\n",
      "conv_3_kernel: 3\n",
      "batch_size: 64\n",
      "learning_rate: 0.00015978705252452907\n",
      "Score: -659.1856689453125\n",
      "Trial summary\n",
      "Hyperparameters:\n",
      "conv_1_filter: 112\n",
      "conv_1_kernel: 5\n",
      "conv_2_filter: 64\n",
      "conv_2_kernel: 3\n",
      "conv_3_filter: 96\n",
      "conv_3_kernel: 3\n",
      "batch_size: 64\n",
      "learning_rate: 0.001\n",
      "Score: -657.7086791992188\n"
     ]
    }
   ],
   "source": [
    "tuner.results_summary()"
   ]
  },
  {
   "cell_type": "code",
   "execution_count": 20,
   "metadata": {},
   "outputs": [
    {
     "name": "stdout",
     "output_type": "stream",
     "text": [
      "{'conv_1_filter': 48, 'conv_1_kernel': 5, 'conv_2_filter': 48, 'conv_2_kernel': 3, 'conv_3_filter': 112, 'conv_3_kernel': 3, 'batch_size': 64, 'learning_rate': 0.00015978705252452907}\n"
     ]
    }
   ],
   "source": [
    "best_hps = tuner.get_best_hyperparameters()[0]\n",
    "len(tuner.get_best_hyperparameters())\n",
    "print(best_hps.values)"
   ]
  },
  {
   "cell_type": "code",
   "execution_count": 21,
   "metadata": {},
   "outputs": [
    {
     "data": {
      "text/plain": [
       "{'conv_1_filter': 48,\n",
       " 'conv_1_kernel': 5,\n",
       " 'conv_2_filter': 48,\n",
       " 'conv_2_kernel': 3,\n",
       " 'conv_3_filter': 112,\n",
       " 'conv_3_kernel': 3,\n",
       " 'batch_size': 64,\n",
       " 'learning_rate': 0.00015978705252452907}"
      ]
     },
     "execution_count": 21,
     "metadata": {},
     "output_type": "execute_result"
    }
   ],
   "source": [
    "tuner.get_best_hyperparameters()[0].values"
   ]
  },
  {
   "cell_type": "code",
   "execution_count": 22,
   "metadata": {},
   "outputs": [],
   "source": [
    "loss = tf.keras.metrics.Mean()"
   ]
  },
  {
   "cell_type": "code",
   "execution_count": 23,
   "metadata": {},
   "outputs": [],
   "source": [
    "best_model = tuner.get_best_models()[0]"
   ]
  },
  {
   "cell_type": "code",
   "execution_count": 24,
   "metadata": {},
   "outputs": [],
   "source": [
    "best_model.build(input_shape=(None,32,32,1))"
   ]
  },
  {
   "cell_type": "code",
   "execution_count": 25,
   "metadata": {},
   "outputs": [
    {
     "name": "stdout",
     "output_type": "stream",
     "text": [
      "Model: \"model\"\n",
      "__________________________________________________________________________________________________\n",
      " Layer (type)                   Output Shape         Param #     Connected to                     \n",
      "==================================================================================================\n",
      " input_1 (InputLayer)           [(None, 32, 32, 1)]  0           []                               \n",
      "                                                                                                  \n",
      " conv2d (Conv2D)                (None, 28, 28, 48)   1248        ['input_1[0][0]']                \n",
      "                                                                                                  \n",
      " conv2d_1 (Conv2D)              (None, 26, 26, 48)   20784       ['conv2d[0][0]']                 \n",
      "                                                                                                  \n",
      " conv2d_2 (Conv2D)              (None, 24, 24, 112)  48496       ['conv2d_1[0][0]']               \n",
      "                                                                                                  \n",
      " flatten (Flatten)              (None, 64512)        0           ['conv2d_2[0][0]']               \n",
      "                                                                                                  \n",
      " dense (Dense)                  (None, 2)            129026      ['flatten[0][0]']                \n",
      "                                                                                                  \n",
      " dense_1 (Dense)                (None, 2)            129026      ['flatten[0][0]']                \n",
      "                                                                                                  \n",
      " sampling (Sampling)            (None, 2)            0           ['dense[0][0]',                  \n",
      "                                                                  'dense_1[0][0]']                \n",
      "                                                                                                  \n",
      "==================================================================================================\n",
      "Total params: 328,580\n",
      "Trainable params: 328,580\n",
      "Non-trainable params: 0\n",
      "__________________________________________________________________________________________________\n"
     ]
    }
   ],
   "source": [
    "best_model.encoder.model().summary()"
   ]
  },
  {
   "cell_type": "code",
   "execution_count": 26,
   "metadata": {},
   "outputs": [
    {
     "data": {
      "text/plain": [
       "<matplotlib.image.AxesImage at 0x7f55f040c130>"
      ]
     },
     "execution_count": 26,
     "metadata": {},
     "output_type": "execute_result"
    },
    {
     "data": {
      "image/png": "[encoded data removed]",
      "text/plain": [
       "<Figure size 432x288 with 1 Axes>"
      ]
     },
     "metadata": {
      "needs_background": "light"
     },
     "output_type": "display_data"
    }
   ],
   "source": [
    "%matplotlib inline\n",
    "i=8\n",
    "plt.imshow(x_train[i], cmap='gray')"
   ]
  },
  {
   "cell_type": "code",
   "execution_count": 27,
   "metadata": {},
   "outputs": [],
   "source": [
    "a, b, c = best_model.encode(x_train[i].reshape(1,32,32,1))"
   ]
  },
  {
   "cell_type": "code",
   "execution_count": 29,
   "metadata": {},
   "outputs": [
    {
     "data": {
      "text/plain": [
       "<matplotlib.image.AxesImage at 0x7f558f3b7f40>"
      ]
     },
     "execution_count": 29,
     "metadata": {},
     "output_type": "execute_result"
    },
    {
     "data": {
      "image/png": "[encoded data removed]",
      "text/plain": [
       "<Figure size 432x288 with 1 Axes>"
      ]
     },
     "metadata": {
      "needs_background": "light"
     },
     "output_type": "display_data"
    }
   ],
   "source": [
    "%matplotlib inline\n",
    "d = best_model.decode(c)\n",
    "plt.imshow(d[0], cmap='gray')"
   ]
  },
  {
   "cell_type": "code",
   "execution_count": null,
   "metadata": {},
   "outputs": [],
   "source": []
  }
 ],
 "metadata": {
  "kernelspec": {
   "display_name": "Python 3",
   "language": "python",
   "name": "python3"
  },
  "language_info": {
   "codemirror_mode": {
    "name": "ipython",
    "version": 3
   },
   "file_extension": ".py",
   "mimetype": "text/x-python",
   "name": "python",
   "nbconvert_exporter": "python",
   "pygments_lexer": "ipython3",
   "version": "3.8.10"
  }
 },
 "nbformat": 4,
 "nbformat_minor": 2
}
