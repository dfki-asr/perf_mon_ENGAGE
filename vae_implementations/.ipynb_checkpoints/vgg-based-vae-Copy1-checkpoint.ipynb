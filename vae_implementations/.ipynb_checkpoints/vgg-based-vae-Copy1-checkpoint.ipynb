{
 "cells": [
  {
   "cell_type": "code",
   "execution_count": 1,
   "metadata": {},
   "outputs": [],
   "source": [
    "import os\n",
    "os.environ[\"CUDA_VISIBLE_DEVICES\"]=\"1\"\n",
    "\n",
    "import tensorflow as tf\n",
    "gpus = tf.config.experimental.list_physical_devices('GPU')\n",
    "if gpus:\n",
    "  try:\n",
    "    tf.config.experimental.set_virtual_device_configuration(\n",
    "        gpus[0],[tf.config.experimental.VirtualDeviceConfiguration(memory_limit=5120)])\n",
    "  except RuntimeError as e:\n",
    "    print(e)"
   ]
  },
  {
   "cell_type": "code",
   "execution_count": 2,
   "id": "cc74c549",
   "metadata": {},
   "outputs": [],
   "source": [
    "import tensorflow as tf\n",
    "from tensorflow import keras\n",
    "from tensorflow.keras import layers\n",
    "from tensorflow.keras.layers import Conv2D, Conv2DTranspose, Dense, Input, Flatten,\\\n",
    "Conv2DTranspose, BatchNormalization, LeakyReLU, Reshape, MaxPooling2D, concatenate, InputLayer, Lambda\n",
    "from tensorflow.keras.models import Sequential, Model\n",
    "from tensorflow.keras.datasets import cifar10\n",
    "import tensorflow.keras.backend as K\n",
    "import tensorflow as tf\n",
    "from tensorflow.keras.utils import to_categorical\n",
    "import numpy as np\n",
    "import matplotlib.pyplot as plt\n",
    "import plotly\n",
    "import plotly.express as px"
   ]
  },
  {
   "cell_type": "code",
   "execution_count": 3,
   "id": "a1855d6d",
   "metadata": {},
   "outputs": [],
   "source": [
    "# input image dimensions\n",
    "img_rows, img_cols = 32, 32\n",
    "# Load CIFAR-10 dataset-\n",
    "(X_train, y_train), (X_test, y_test) = cifar10.load_data()"
   ]
  },
  {
   "cell_type": "code",
   "execution_count": 4,
   "id": "8a0baa98",
   "metadata": {},
   "outputs": [],
   "source": [
    "if tf.keras.backend.image_data_format() == 'channels_first':\n",
    "    X_train = X_train.reshape(X_train.shape[0], 1, img_rows, img_cols)\n",
    "    X_test = X_test.reshape(X_test.shape[0], 1, img_rows, img_cols)\n",
    "    input_shape = (3, img_rows, img_cols)\n",
    "else:\n",
    "    X_train = X_train.reshape(X_train.shape[0], img_rows, img_cols, 3)\n",
    "    X_test = X_test.reshape(X_test.shape[0], img_rows, img_cols, 3)\n",
    "    input_shape = (img_rows, img_cols, 3)\n"
   ]
  },
  {
   "cell_type": "code",
   "execution_count": 5,
   "id": "456437ea",
   "metadata": {},
   "outputs": [],
   "source": [
    "# Specify hyper-parameters-\n",
    "batch_size = 64\n",
    "num_classes = 10\n",
    "num_epochs = 50"
   ]
  },
  {
   "cell_type": "code",
   "execution_count": 6,
   "metadata": {},
   "outputs": [
    {
     "name": "stdout",
     "output_type": "stream",
     "text": [
      "\n",
      "Dimensions of training and testing sets are:\n",
      "X_train.shape: (50000, 32, 32, 3) & X_test.shape: (10000, 32, 32, 3)\n"
     ]
    }
   ],
   "source": [
    "# Convert datasets to floating point types-\n",
    "X_train = X_train.astype('float32')\n",
    "X_test = X_test.astype('float32')\n",
    "\n",
    "# Normalize the training and testing datasets-\n",
    "X_train /= 255.0\n",
    "X_test /= 255.0\n",
    "\n",
    "\n",
    "\n",
    "# X_train, X_test = X_train.reshape(X_train.shape[0], -1), X_test.reshape(X_test.shape[0], -1)\n",
    "# Create TF datasets-\n",
    "\n",
    "\n",
    "print(\"\\nDimensions of training and testing sets are:\")\n",
    "print(f\"X_train.shape: {X_train.shape} & X_test.shape: {X_test.shape}\")"
   ]
  },
  {
   "cell_type": "code",
   "execution_count": 7,
   "metadata": {},
   "outputs": [
    {
     "name": "stdout",
     "output_type": "stream",
     "text": [
      "y_train.shape: (50000, 10) & y_test.shape: (10000, 10)\n"
     ]
    }
   ],
   "source": [
    "y_train, y_test = to_categorical(y_train), to_categorical(y_test)\n",
    "print(f\"y_train.shape: {y_train.shape} & y_test.shape: {y_test.shape}\")\n",
    "\n",
    "train_dataset = tf.data.Dataset.from_tensor_slices((X_train, y_train) ).shuffle(50000).batch(batch_size = batch_size)\n",
    "test_dataset = tf.data.Dataset.from_tensor_slices((X_test, y_test)).shuffle(10000).batch(batch_size = batch_size)"
   ]
  },
  {
   "cell_type": "code",
   "execution_count": 9,
   "id": "21b41e55",
   "metadata": {},
   "outputs": [],
   "source": [
    "class ConvBlock(Model):\n",
    "    def __init__(\n",
    "        self, num_filters,\n",
    "        kernel_size, stride_length,\n",
    "        pooling_size, pooling_stride,\n",
    "        padding_type = 'same'\n",
    "    ):\n",
    "        super(ConvBlock, self).__init__()\n",
    "        \n",
    "        self.conv1 = Conv2D(\n",
    "            filters = num_filters, kernel_size = kernel_size,\n",
    "            strides = stride_length, padding = padding_type,\n",
    "            activation = None, use_bias = False,\n",
    "        )\n",
    "        self.bn = BatchNormalization(\n",
    "            axis = -1, momentum = 0.99,\n",
    "            epsilon = 0.001\n",
    "            )\n",
    "        \n",
    "        self.conv2 = Conv2D(\n",
    "            filters = num_filters, kernel_size = kernel_size,\n",
    "            strides = stride_length, padding = padding_type,\n",
    "            activation = None, use_bias = False\n",
    "        )\n",
    "        self.bn2 = BatchNormalization(\n",
    "            axis = -1, momentum = 0.99,\n",
    "            epsilon = 0.001\n",
    "            )\n",
    "        \n",
    "        self.pool = MaxPooling2D(\n",
    "            pool_size = pooling_size,\n",
    "            strides = pooling_stride\n",
    "        )\n",
    "        \n",
    "    \n",
    "    def call(self, x):\n",
    "        x = tf.keras.activations.relu(self.bn(self.conv1(x)))\n",
    "        x = tf.keras.activations.relu(self.bn2(self.conv2(x)))\n",
    "        x = self.pool(x)\n",
    "        \n",
    "        return x"
   ]
  },
  {
   "cell_type": "code",
   "execution_count": 10,
   "id": "be5ad095",
   "metadata": {},
   "outputs": [],
   "source": [
    "class Conv6_Encoder(Model):\n",
    "    def __init__(self, latent_dim = 10):\n",
    "        super(Conv6_Encoder, self).__init__()\n",
    "\n",
    "        self.latent_dim = latent_dim\n",
    "        \n",
    "        self.conv_block1 = ConvBlock(\n",
    "            num_filters = 64, kernel_size = 3,\n",
    "            stride_length = 1, pooling_size = 2,\n",
    "            pooling_stride = 2, padding_type = 'valid'\n",
    "            )\n",
    "\n",
    "        self.conv_block2 = ConvBlock(\n",
    "            num_filters = 128, kernel_size = 3,\n",
    "            stride_length = 1, pooling_size = 2,\n",
    "            pooling_stride = 2, padding_type = 'valid'\n",
    "            )\n",
    "        \n",
    "        self.conv_block3 = ConvBlock(\n",
    "            num_filters = 256, kernel_size = 3,\n",
    "            stride_length = 1, pooling_size = 2,\n",
    "            pooling_stride = 2, padding_type = 'same'\n",
    "            )\n",
    "\n",
    "        self.flatten = Flatten()\n",
    "        \n",
    "        self.output_layer = Dense(\n",
    "            units = self.latent_dim, activation = None\n",
    "            )\n",
    "        self.bn = BatchNormalization(\n",
    "            axis = -1, momentum = 0.99,\n",
    "            epsilon = 0.001\n",
    "            )\n",
    "        \n",
    "    \n",
    "    def call(self, x):\n",
    "        x1 = x[0]\n",
    "        x2 = x[1]\n",
    "        o = self.conv_block1(x1)\n",
    "        o = self.conv_block2(o)\n",
    "        o = self.conv_block3(o)\n",
    "#         res_shape = x.shape\n",
    "        o = self.flatten(o)\n",
    "        \n",
    "        o = K.concatenate([o,x2], axis=-1)\n",
    "        o = tf.keras.activations.relu(self.bn(self.output_layer(o)))\n",
    "        return o, x2\n",
    "    \n",
    "    def model(self):\n",
    "        '''\n",
    "        Overrides 'model()' call.\n",
    "        Output shape is not well-defined when using sub-classing. As a\n",
    "        workaround, this method is implemeted.\n",
    "        '''\n",
    "        x1 = Input(shape = (32,32,3))\n",
    "        x2 = Input(shape = (10,))\n",
    "        return Model(inputs = [x1,x2], outputs = self.call([x1,x2]))\n",
    "    \n",
    "    def shape_computation(self, x):\n",
    "        print(f\"Input shape: {x.shape}\")\n",
    "        x = self.conv_block1(x)\n",
    "        print(f\"conv_block1.shape: {x.shape}\")\n",
    "        x = self.conv_block2(x)\n",
    "        print(f\"conv_block2.shape: {x.shape}\")\n",
    "        x = self.conv_block3(x)\n",
    "        print(f\"conv_block3.shape: {x.shape}\")\n",
    "        x = self.flatten(x)\n",
    "        print(f\"flattened shape: {x.shape}\")\n",
    "        x = tf.keras.activations.relu(self.bn(self.output_layer(x)))\n",
    "        print(f\"Encoder output shape: {x.shape}\")\n",
    "        '''\n",
    "        Input shape: (64, 32, 32, 3)\n",
    "        conv_block1.shape: (64, 14, 14, 64)\n",
    "        conv_block2.shape: (64, 5, 5, 128)\n",
    "        conv_block3.shape: (64, 2, 2, 256)\n",
    "        flattened shape: (64, 1024)\n",
    "        Encoder output shape: (64, 100)\n",
    "        '''\n",
    "        \n",
    "        return None"
   ]
  },
  {
   "cell_type": "code",
   "execution_count": 15,
   "id": "741a36a7",
   "metadata": {},
   "outputs": [],
   "source": [
    "class Conv6_Decoder(Model):\n",
    "    def __init__(self, latent_dim = 10):\n",
    "        super(Conv6_Decoder, self).__init__()\n",
    "\n",
    "        self.latent_dim = latent_dim\n",
    "#         self.inp_layer = InputLayer(input_shape = self.latent_dim+10)\n",
    "        \n",
    "        print('In decoder')\n",
    "        self.dense0 = Dense(\n",
    "            units = self.latent_dim+10, activation = None\n",
    "            )\n",
    "        self.bn0 = BatchNormalization(\n",
    "            axis = -1, momentum = 0.99,\n",
    "            epsilon = 0.001\n",
    "            )\n",
    "        \n",
    "        self.dense = Dense(\n",
    "            units = 1024, activation = None\n",
    "        )\n",
    "        self.bn = BatchNormalization(\n",
    "            axis = -1, momentum = 0.99,\n",
    "            epsilon = 0.001\n",
    "            )\n",
    "        \n",
    "        self.dense2 = Dense(\n",
    "            units = 4 * 4 * 256, activation = None\n",
    "        )\n",
    "        self.bn2 = BatchNormalization(\n",
    "            axis = -1, momentum = 0.99,\n",
    "            epsilon = 0.001\n",
    "            )\n",
    "        \n",
    "        self.reshape = Reshape((4, 4, 256))\n",
    "        \n",
    "        self.conv_transpose_layer1 = Conv2DTranspose(\n",
    "            filters = 256, kernel_size = 3,\n",
    "            strides = 2, padding = 'same',\n",
    "            activation = None\n",
    "            )\n",
    "        self.bn3 = BatchNormalization(\n",
    "            axis = -1, momentum = 0.99,\n",
    "            epsilon = 0.001\n",
    "            )\n",
    "       \n",
    "        self.conv_transpose_layer2 = Conv2DTranspose(\n",
    "            filters = 256, kernel_size = 3,\n",
    "            strides = 1, padding = 'same',\n",
    "            activation = None\n",
    "            )\n",
    "        \n",
    "        self.bn4 = BatchNormalization(\n",
    "            axis = -1, momentum = 0.99,\n",
    "            epsilon = 0.001\n",
    "            )\n",
    "        \n",
    "        self.conv_transpose_layer3 =  Conv2DTranspose(\n",
    "            filters = 128, kernel_size = 3,\n",
    "            strides = 2, padding = 'same',\n",
    "            activation = None\n",
    "            )\n",
    "        self.bn5 = BatchNormalization(\n",
    "            axis = -1, momentum = 0.99,\n",
    "            epsilon = 0.001\n",
    "            )\n",
    "        \n",
    "        self.conv_transpose_layer4 = Conv2DTranspose(\n",
    "            filters = 128, kernel_size = 3,\n",
    "            strides = 1, padding = 'same',\n",
    "            activation = None\n",
    "            )\n",
    "        \n",
    "        self.bn6 = BatchNormalization(\n",
    "            axis = -1, momentum = 0.99,\n",
    "            epsilon = 0.001\n",
    "            )\n",
    "\n",
    "        self.conv_transpose_layer5 = Conv2DTranspose(\n",
    "            filters = 64, kernel_size = 3,\n",
    "            strides = 2, padding = 'same',\n",
    "            activation = None\n",
    "            )\n",
    "        self.bn7 = BatchNormalization(\n",
    "            axis = -1, momentum = 0.99,\n",
    "            epsilon = 0.001\n",
    "            )\n",
    "       \n",
    "        self.conv_transpose_layer6 = Conv2DTranspose(\n",
    "            filters = 64, kernel_size = 3,\n",
    "            strides = 1, padding = 'same',\n",
    "            activation = None\n",
    "            )\n",
    "        \n",
    "        self.bn8 = BatchNormalization(\n",
    "            axis = -1, momentum = 0.99,\n",
    "            epsilon = 0.001\n",
    "            )\n",
    "        \n",
    "        self.final_conv_layer = Conv2DTranspose(\n",
    "            filters = 3, kernel_size = 3,\n",
    "            strides = 1, padding = 'same',\n",
    "            activation = None\n",
    "            )\n",
    "        \n",
    "    \n",
    "    def call(self, X):\n",
    "#         X = self.inp_layer(X)\n",
    "        x1 = X[0]\n",
    "        x2 = X[1]\n",
    "        X = K.concatenate([x1,x2])\n",
    "        X = tf.keras.activations.relu(self.bn0(self.dense0(X)))\n",
    "        X = tf.keras.activations.relu(self.bn(self.dense(X)))\n",
    "        X = tf.keras.activations.relu(self.bn2(self.dense2(X)))\n",
    "        X = self.reshape(X)\n",
    "        X = tf.keras.activations.relu(self.bn3(self.conv_transpose_layer1(X)))\n",
    "        X = tf.keras.activations.relu(self.bn4(self.conv_transpose_layer2(X)))\n",
    "        X = tf.keras.activations.relu(self.bn5(self.conv_transpose_layer3(X)))\n",
    "        X = tf.keras.activations.relu(self.bn6(self.conv_transpose_layer4(X)))\n",
    "        X = tf.keras.activations.relu(self.bn7(self.conv_transpose_layer5(X)))\n",
    "        X = tf.keras.activations.relu(self.bn8(self.conv_transpose_layer6(X)))\n",
    "        # X = tf.keras.activations.sigmoid(self.final_conv_layer(X))\n",
    "        X = self.final_conv_layer(X)\n",
    "\n",
    "        return X\n",
    "        \n",
    "    def model(self):\n",
    "        '''\n",
    "        Overrides 'model()' call.\n",
    "        Output shape is not well-defined when using sub-classing. As a\n",
    "        workaround, this method is implemeted.\n",
    "        '''\n",
    "        x1 = Input(shape = (100))\n",
    "        x2 = Input(shape=(10,))\n",
    "        return Model(inputs = [x1,x2], outputs = self.call([x1,x2]))\n",
    "    \n",
    "    def shape_computation(self, x):\n",
    "        print(f\"Input shape: {x.shape}\")\n",
    "        x = tf.nn.relu(self.bn0(self.dense0(x)))\n",
    "        print(f\"first dense layer shape: {x.shape}\")\n",
    "        x = tf.nn.relu(self.bn(self.dense(x)))\n",
    "        print(f\"second dense layer shape: {x.shape}\")\n",
    "        x = tf.nn.relu(self.bn2(self.dense2(x)))\n",
    "        print(f\"third dense layer shape: {x.shape}\")\n",
    "        x = self.reshape(x)\n",
    "        print(f\"reshape: {x.shape}\")\n",
    "        x = tf.nn.relu(self.bn3(self.conv_transpose_layer1(x)))\n",
    "        print(f\"conv transpose layer1 shape: {x.shape}\")\n",
    "        x = tf.nn.relu(self.bn4(self.conv_transpose_layer2(x)))\n",
    "        print(f\"conv transpose layer2 shape: {x.shape}\")\n",
    "        x = tf.nn.relu(self.bn5(self.conv_transpose_layer3(x)))\n",
    "        print(f\"conv transpose layer3 shape: {x.shape}\")\n",
    "        x = tf.nn.relu(self.bn6(self.conv_transpose_layer4(x)))\n",
    "        print(f\"conv transpose layer4 shape: {x.shape}\")\n",
    "        x = tf.nn.relu(self.bn7(self.conv_transpose_layer5(x)))\n",
    "        print(f\"conv transpose layer5 shape: {x.shape}\")\n",
    "        x = tf.nn.relu(self.bn8(self.conv_transpose_layer6(x)))\n",
    "        print(f\"conv transpose layer6 shape: {x.shape}\")\n",
    "        x = self.final_conv_layer(x)\n",
    "        print(f\"Decoder output shape: {x.shape}\")\n",
    "        \n",
    "        '''\n",
    "        Input shape: (64, 100)\n",
    "        first dense layer shape: (64, 100)\n",
    "        second dense layer shape: (64, 1024)\n",
    "        third dense layer shape: (64, 4096)\n",
    "        reshape: (64, 4, 4, 256)\n",
    "        conv transpose layer1 shape: (64, 8, 8, 256)\n",
    "        conv transpose layer2 shape: (64, 8, 8, 256)\n",
    "        conv transpose layer3 shape: (64, 16, 16, 128)\n",
    "        conv transpose layer4 shape: (64, 16, 16, 128)\n",
    "        conv transpose layer5 shape: (64, 32, 32, 64)\n",
    "        conv transpose layer6 shape: (64, 32, 32, 64)\n",
    "        Decoder output shape: (64, 32, 32, 3)\n",
    "        '''\n",
    "        \n",
    "        return None\n",
    "        "
   ]
  },
  {
   "cell_type": "code",
   "execution_count": 18,
   "metadata": {},
   "outputs": [],
   "source": [
    "class Sampling(tf.keras.layers.Layer):\n",
    "    \"\"\"\n",
    "    Create a sampling layer.\n",
    "    Uses (mu, log_var) to sample latent vector 'z'.\n",
    "    \"\"\"\n",
    "    def call(self, mu, log_var):\n",
    "    # def call(self, inputs):\n",
    "        # z_mean, z_log_var = inputs\n",
    "\n",
    "        # Get batch size-\n",
    "        batch = tf.shape(mu)[0]\n",
    "\n",
    "        # Get latent space dimensionality-\n",
    "        dim = tf.shape(mu)[1]\n",
    "\n",
    "        # Add stochasticity by sampling from a multivariate standard \n",
    "        # Gaussian distribution-\n",
    "        epsilon = tf.keras.backend.random_normal(\n",
    "            shape = (batch, dim), mean = 0.0,\n",
    "            stddev = 1.0\n",
    "        )\n",
    "        z = mu + (tf.exp(0.5 * log_var) * epsilon)\n",
    "        return z\n",
    "\n"
   ]
  },
  {
   "cell_type": "code",
   "execution_count": 21,
   "metadata": {
    "scrolled": true
   },
   "outputs": [],
   "source": [
    "class VAE(Model):\n",
    "    def __init__(self, latent_space = 100):\n",
    "        super(VAE, self).__init__()\n",
    "        \n",
    "        self.latent_space = latent_space\n",
    "        self.encoder = Conv6_Encoder(latent_dim = self.latent_space)\n",
    "        self.decoder = Conv6_Decoder(latent_dim = self.latent_space)\n",
    "        \n",
    "        # Define fully-connected layers for computing mean & log variance-\n",
    "        self.mu = Dense(units = self.latent_space, activation = None)\n",
    "        self.log_var = Dense(units = self.latent_space, activation = None)\n",
    "\n",
    "\n",
    "    def reparameterize(self, mu, logvar):\n",
    "        # Sample from a multivariate Gaussian distribution.\n",
    "        # Adds stochasticity or variation-\n",
    "        eps = tf.random.normal(\n",
    "            shape = mu.shape, mean = 0.0,\n",
    "            stddev = 1.0\n",
    "        )\n",
    "        return (eps * tf.exp(logvar * 0.5) + mu)\n",
    "        \n",
    "    \n",
    "    def call(self, x):\n",
    "        latent, label = self.encoder(x)\n",
    "        # x.shape: (batch_size, 100)\n",
    "        mu = self.mu(latent)\n",
    "        log_var = self.log_var(latent)\n",
    "        # z = self.reparameterize(mu, log_var)\n",
    "        # z = Sampling()([mu, log_var])\n",
    "        z = Sampling()(mu, log_var)\n",
    "        \n",
    "        \n",
    "        \n",
    "        '''\n",
    "        print(f\"mu.shape: {mu.shape}, log_var.shape: {log_var.shape}\"\n",
    "              f\" & z.shape: {z.shape}\")\n",
    "        # mu.shape: (batch_size, 100), log_var.shape: (batch_size, 100) & z.shape: (batch_size, 100)\n",
    "        '''\n",
    "        x = tf.keras.activations.sigmoid(self.decoder([z, label]))\n",
    "        return x, mu, log_var, z\n",
    "    \n",
    "    \n",
    "    def model(self):\n",
    "        '''\n",
    "        Overrides 'model()' call.\n",
    "        Output shape is not well-defined when using sub-classing. As a\n",
    "        workaround, this method is implemeted.\n",
    "        '''\n",
    "        x1 = Input(shape = (32,32,3))\n",
    "        x2 = Input(shape = (10,))\n",
    "        return Model(inputs = [x1,x2], outputs = self.call([x1,x2]))"
   ]
  },
  {
   "cell_type": "code",
   "execution_count": 23,
   "metadata": {
    "scrolled": true
   },
   "outputs": [
    {
     "name": "stdout",
     "output_type": "stream",
     "text": [
      "In decoder\n",
      "Model: \"model\"\n",
      "__________________________________________________________________________________________________\n",
      " Layer (type)                   Output Shape         Param #     Connected to                     \n",
      "==================================================================================================\n",
      " input_1 (InputLayer)           [(None, 32, 32, 3)]  0           []                               \n",
      "                                                                                                  \n",
      " input_2 (InputLayer)           [(None, 10)]         0           []                               \n",
      "                                                                                                  \n",
      " conv6__encoder (Conv6_Encoder)  ((None, 100),       1251996     ['input_1[0][0]',                \n",
      "                                 (None, 10))                      'input_2[0][0]']                \n",
      "                                                                                                  \n",
      " dense_4 (Dense)                (None, 100)          10100       ['conv6__encoder[0][0]']         \n",
      "                                                                                                  \n",
      " dense_5 (Dense)                (None, 100)          10100       ['conv6__encoder[0][0]']         \n",
      "                                                                                                  \n",
      " sampling (Sampling)            (None, 100)          0           ['dense_4[0][0]',                \n",
      "                                                                  'dense_5[0][0]']                \n",
      "                                                                                                  \n",
      " conv6__decoder (Conv6_Decoder)  (None, 32, 32, 3)   6084013     ['sampling[0][0]',               \n",
      "                                                                  'conv6__encoder[0][1]']         \n",
      "                                                                                                  \n",
      " tf.math.sigmoid (TFOpLambda)   (None, 32, 32, 3)    0           ['conv6__decoder[0][0]']         \n",
      "                                                                                                  \n",
      "==================================================================================================\n",
      "Total params: 7,356,209\n",
      "Trainable params: 7,341,965\n",
      "Non-trainable params: 14,244\n",
      "__________________________________________________________________________________________________\n"
     ]
    }
   ],
   "source": [
    "# Initialize VAE model-\n",
    "model = VAE(latent_space = 100)\n",
    "model.model().summary()\n"
   ]
  },
  {
   "cell_type": "code",
   "execution_count": 24,
   "metadata": {},
   "outputs": [],
   "source": [
    "x, mu, log_var, z = model.predict([X_train[0].reshape(1,32,32,3),y_train[0].reshape(1,10)])"
   ]
  },
  {
   "cell_type": "code",
   "execution_count": 25,
   "metadata": {},
   "outputs": [
    {
     "data": {
      "text/plain": [
       "(1, 100)"
      ]
     },
     "execution_count": 25,
     "metadata": {},
     "output_type": "execute_result"
    }
   ],
   "source": [
    "z.shape"
   ]
  },
  {
   "cell_type": "code",
   "execution_count": 27,
   "metadata": {},
   "outputs": [],
   "source": [
    "# # Get model summary-\n",
    "# model.decoder.model().summary()"
   ]
  },
  {
   "cell_type": "code",
   "execution_count": 28,
   "metadata": {},
   "outputs": [],
   "source": [
    "# Define an optimizer-\n",
    "optimizer = tf.keras.optimizers.Adam(learning_rate = 1e-4)"
   ]
  },
  {
   "cell_type": "code",
   "execution_count": 29,
   "metadata": {},
   "outputs": [],
   "source": [
    "def compute_loss(data, reconstruction, mu, log_var, alpha = 1):\n",
    "    \n",
    "    # Reconstruction loss-\n",
    "    # recon_loss = tf.keras.losses.mean_squared_error(K.flatten(data), K.flatten(reconstruction))\n",
    "\n",
    "    recon_loss = tf.reduce_mean(\n",
    "        tf.reduce_sum(\n",
    "            tf.keras.losses.binary_crossentropy(data[0], reconstruction), axis=(1, 2)\n",
    "#             tf.keras.losses.mean_squared_error(data, reconstruction),\n",
    "#             axis = (1, 2)\n",
    "            )\n",
    "        )\n",
    "    \n",
    "    # KL-divergence loss-    \n",
    "    kl_loss = -0.5 * (1 + log_var - tf.square(mu) - tf.exp(log_var))\n",
    "    kl_loss = tf.reduce_mean(\n",
    "        tf.reduce_sum(\n",
    "            kl_loss,\n",
    "            axis = 1\n",
    "        )\n",
    "    )\n",
    "\n",
    "    total_loss = (recon_loss * alpha) + kl_loss\n",
    "    \n",
    "    return total_loss, recon_loss, kl_loss\n",
    "    "
   ]
  },
  {
   "cell_type": "code",
   "execution_count": 30,
   "metadata": {},
   "outputs": [],
   "source": [
    "@tf.function\n",
    "def train_one_step(model, optimizer, data, alpha):\n",
    "    # Function to perform one step/iteration of training\n",
    "\n",
    "    with tf.GradientTape() as tape:\n",
    "        # Make predictions using defined model-\n",
    "        data_recon, mu, log_var, z = model(data)\n",
    "\n",
    "        # Compute loss-\n",
    "        total_loss, recon_loss, kl_loss = compute_loss(\n",
    "            data = data, reconstruction = data_recon,\n",
    "            mu = mu, log_var = log_var,\n",
    "            alpha = alpha\n",
    "        )\n",
    "    \n",
    "    # Compute gradients wrt defined loss and weights and biases-\n",
    "    grads = tape.gradient(total_loss, model.trainable_variables)\n",
    "    \n",
    "    # type(grads)\n",
    "    # list\n",
    "    \n",
    "    # Apply computed gradients to model's weights and biases-\n",
    "    optimizer.apply_gradients(zip(grads, model.trainable_variables))\n",
    "    \n",
    "    return total_loss, recon_loss, kl_loss\n",
    "\n",
    "\n",
    "@tf.function\n",
    "def test_step(model, optimizer, data, alpha):\n",
    "    '''\n",
    "    Function to test model performance\n",
    "    on testing dataset\n",
    "    '''\n",
    "    # Make predictions using defined model-\n",
    "    data_recon, mu, log_var, z = model(data)\n",
    "    \n",
    "    # Compute loss-\n",
    "    total_loss, recon_loss, kl_loss = compute_loss(\n",
    "        data = data, reconstruction = data_recon,\n",
    "        mu = mu, log_var = log_var,\n",
    "        alpha = alpha\n",
    "    )\n",
    "    \n",
    "    return total_loss, recon_loss, kl_loss"
   ]
  },
  {
   "cell_type": "code",
   "execution_count": 31,
   "metadata": {},
   "outputs": [],
   "source": [
    "# Specify hyper-parameter for reconstruction loss vs. kl-divergence-\n",
    "alpha = 10\n",
    "\n",
    "# Python3 dict to contain training metrics-\n",
    "training_metrics = {}\n",
    "val_metrics = {}"
   ]
  },
  {
   "cell_type": "code",
   "execution_count": 32,
   "metadata": {
    "scrolled": true
   },
   "outputs": [
    {
     "name": "stdout",
     "output_type": "stream",
     "text": [
      "epoch = 1; total train loss = 5187407.3247, train recon loss = 516559.8489, train kl loss = 21808.8333; total val loss = 1009967.0186, val recon loss = 100335.2292 & val kl loss = 6614.7251\n",
      "epoch = 2; total train loss = 4970595.1211, train recon loss = 493013.0853, train kl loss = 40464.2610; total val loss = 992475.9004, val recon loss = 98387.8398 & val kl loss = 8597.5042\n",
      "epoch = 3; total train loss = 4915843.5596, train recon loss = 487074.7088, train kl loss = 45096.4733; total val loss = 985887.5342, val recon loss = 97649.4072 & val kl loss = 9393.4638\n",
      "epoch = 4; total train loss = 4878341.6514, train recon loss = 482921.4372, train kl loss = 49127.2833; total val loss = 975081.7441, val recon loss = 96474.8981 & val kl loss = 10332.7644\n",
      "epoch = 5; total train loss = 4836573.0244, train recon loss = 478418.7645, train kl loss = 52385.3696; total val loss = 971886.5181, val recon loss = 96136.6977 & val kl loss = 10519.5371\n",
      "epoch = 6; total train loss = 4817634.3276, train recon loss = 476426.6782, train kl loss = 53367.5550; total val loss = 967702.0454, val recon loss = 95695.5724 & val kl loss = 10746.3204\n",
      "epoch = 7; total train loss = 4802558.5801, train recon loss = 474877.0889, train kl loss = 53787.6888; total val loss = 964565.8599, val recon loss = 95399.3525 & val kl loss = 10572.3337\n",
      "epoch = 8; total train loss = 4791183.6860, train recon loss = 473704.2098, train kl loss = 54141.5859; total val loss = 963157.8081, val recon loss = 95207.8888 & val kl loss = 11078.9156\n",
      "epoch = 9; total train loss = 4778601.8291, train recon loss = 472386.1505, train kl loss = 54740.3248; total val loss = 959829.0610, val recon loss = 94868.8840 & val kl loss = 11140.2181\n",
      "epoch = 10; total train loss = 4768577.2148, train recon loss = 471412.9861, train kl loss = 54447.3451; total val loss = 960002.5176, val recon loss = 94910.4696 & val kl loss = 10897.8155\n",
      "epoch = 11; total train loss = 4759734.2896, train recon loss = 470541.0688, train kl loss = 54323.6021; total val loss = 957007.8784, val recon loss = 94656.1819 & val kl loss = 10446.0560\n",
      "epoch = 12; total train loss = 4752031.5342, train recon loss = 469827.8154, train kl loss = 53753.3778; total val loss = 956095.4370, val recon loss = 94553.8093 & val kl loss = 10557.3438\n",
      "epoch = 13; total train loss = 4746518.3779, train recon loss = 469349.7169, train kl loss = 53021.2218; total val loss = 955078.0664, val recon loss = 94464.2792 & val kl loss = 10435.2768\n",
      "epoch = 14; total train loss = 4740880.4170, train recon loss = 468856.9833, train kl loss = 52310.5901; total val loss = 953486.8413, val recon loss = 94319.5238 & val kl loss = 10291.6030\n",
      "epoch = 15; total train loss = 4735368.1348, train recon loss = 468350.0000, train kl loss = 51868.1393; total val loss = 952695.5938, val recon loss = 94237.3486 & val kl loss = 10322.1049\n",
      "epoch = 16; total train loss = 4730114.1431, train recon loss = 467853.3261, train kl loss = 51580.8868; total val loss = 951700.4985, val recon loss = 94128.4511 & val kl loss = 10415.9902\n",
      "epoch = 17; total train loss = 4725206.1802, train recon loss = 467361.6784, train kl loss = 51589.3948; total val loss = 950620.5659, val recon loss = 94035.6707 & val kl loss = 10263.8599\n",
      "epoch = 18; total train loss = 4719425.8779, train recon loss = 466764.1993, train kl loss = 51783.8775; total val loss = 949325.4805, val recon loss = 93906.3764 & val kl loss = 10261.7136\n",
      "epoch = 19; total train loss = 4714474.5996, train recon loss = 466268.0866, train kl loss = 51793.7328; total val loss = 948876.4712, val recon loss = 93838.7921 & val kl loss = 10488.5495\n",
      "epoch = 20; total train loss = 4709031.1499, train recon loss = 465688.3228, train kl loss = 52147.9320; total val loss = 947341.2236, val recon loss = 93688.7178 & val kl loss = 10454.0513\n",
      "epoch = 21; total train loss = 4705112.4067, train recon loss = 465289.2198, train kl loss = 52220.2065; total val loss = 947366.0381, val recon loss = 93688.4352 & val kl loss = 10481.6857\n",
      "epoch = 22; total train loss = 4700341.7539, train recon loss = 464819.7428, train kl loss = 52144.3343; total val loss = 945598.9160, val recon loss = 93514.9703 & val kl loss = 10449.2114\n",
      "epoch = 23; total train loss = 4697322.6221, train recon loss = 464533.6658, train kl loss = 51985.9549; total val loss = 945163.6147, val recon loss = 93486.6422 & val kl loss = 10297.1939\n",
      "epoch = 24; total train loss = 4694351.8574, train recon loss = 464247.3478, train kl loss = 51878.3784; total val loss = 944743.5420, val recon loss = 93461.4357 & val kl loss = 10129.1860\n",
      "epoch = 25; total train loss = 4691520.9409, train recon loss = 463980.7502, train kl loss = 51713.4460; total val loss = 944388.9834, val recon loss = 93428.7654 & val kl loss = 10101.3276\n",
      "epoch = 26; total train loss = 4688610.2500, train recon loss = 463704.1721, train kl loss = 51568.5337; total val loss = 944225.6226, val recon loss = 93393.8167 & val kl loss = 10287.4530\n",
      "epoch = 27; total train loss = 4686233.7222, train recon loss = 463478.0999, train kl loss = 51452.7129; total val loss = 943327.1260, val recon loss = 93289.7758 & val kl loss = 10429.3676\n",
      "epoch = 28; total train loss = 4683569.8076, train recon loss = 463226.9125, train kl loss = 51300.6781; total val loss = 944489.9971, val recon loss = 93419.6381 & val kl loss = 10293.6136\n",
      "epoch = 29; total train loss = 4681413.4966, train recon loss = 463024.7357, train kl loss = 51166.1340; total val loss = 942308.4458, val recon loss = 93219.0922 & val kl loss = 10117.5248\n",
      "epoch = 30; total train loss = 4679358.8501, train recon loss = 462826.7849, train kl loss = 51091.0037; total val loss = 942159.5952, val recon loss = 93208.6427 & val kl loss = 10073.1666\n",
      "epoch = 31; total train loss = 4677167.3975, train recon loss = 462604.1051, train kl loss = 51126.3517; total val loss = 941862.7354, val recon loss = 93168.6925 & val kl loss = 10175.8090\n",
      "epoch = 32; total train loss = 4674639.2471, train recon loss = 462341.0376, train kl loss = 51228.8657; total val loss = 942428.4575, val recon loss = 93202.6957 & val kl loss = 10401.5017\n",
      "epoch = 33; total train loss = 4672741.0444, train recon loss = 462140.6536, train kl loss = 51334.4944; total val loss = 941546.0151, val recon loss = 93141.7532 & val kl loss = 10128.4816\n",
      "epoch = 34; total train loss = 4670470.7974, train recon loss = 461900.6635, train kl loss = 51464.1616; total val loss = 941393.1543, val recon loss = 93123.9728 & val kl loss = 10153.4206\n",
      "epoch = 35; total train loss = 4668850.7979, train recon loss = 461741.9656, train kl loss = 51431.1410; total val loss = 943829.6230, val recon loss = 93348.1527 & val kl loss = 10348.0927\n",
      "epoch = 36; total train loss = 4666798.1079, train recon loss = 461532.4852, train kl loss = 51473.2522; total val loss = 940715.1855, val recon loss = 93037.8560 & val kl loss = 10336.6279\n",
      "epoch = 37; total train loss = 4664973.0757, train recon loss = 461352.0580, train kl loss = 51452.4899; total val loss = 940950.2627, val recon loss = 93054.1840 & val kl loss = 10408.4249\n",
      "epoch = 38; total train loss = 4663257.4204, train recon loss = 461185.0529, train kl loss = 51406.8848; total val loss = 940987.2656, val recon loss = 93083.1412 & val kl loss = 10155.8559\n",
      "epoch = 39; total train loss = 4661680.0991, train recon loss = 461023.7360, train kl loss = 51442.7458; total val loss = 940553.7549, val recon loss = 93037.6672 & val kl loss = 10177.0850\n",
      "epoch = 40; total train loss = 4659880.0762, train recon loss = 460842.1479, train kl loss = 51458.5922; total val loss = 940276.2344, val recon loss = 92988.0461 & val kl loss = 10395.7751\n",
      "epoch = 41; total train loss = 4658696.8286, train recon loss = 460724.0648, train kl loss = 51456.1787; total val loss = 940675.1099, val recon loss = 93025.6171 & val kl loss = 10418.9398\n",
      "epoch = 42; total train loss = 4656613.8120, train recon loss = 460515.7230, train kl loss = 51456.5802; total val loss = 940094.4282, val recon loss = 92986.0683 & val kl loss = 10233.7448\n",
      "epoch = 43; total train loss = 4655312.1450, train recon loss = 460386.5766, train kl loss = 51446.3764; total val loss = 940424.7871, val recon loss = 93022.4348 & val kl loss = 10200.4354\n",
      "epoch = 44; total train loss = 4653646.4248, train recon loss = 460225.4315, train kl loss = 51392.0972; total val loss = 940758.1030, val recon loss = 93044.3866 & val kl loss = 10314.2338\n"
     ]
    },
    {
     "name": "stdout",
     "output_type": "stream",
     "text": [
      "epoch = 45; total train loss = 4652246.0298, train recon loss = 460080.8571, train kl loss = 51437.4686; total val loss = 939888.4224, val recon loss = 92963.7386 & val kl loss = 10251.0368\n",
      "epoch = 46; total train loss = 4650498.8848, train recon loss = 459912.1691, train kl loss = 51377.1905; total val loss = 939802.1719, val recon loss = 92951.2701 & val kl loss = 10289.4679\n",
      "epoch = 47; total train loss = 4649261.4521, train recon loss = 459781.7778, train kl loss = 51443.6740; total val loss = 940462.9995, val recon loss = 93039.6328 & val kl loss = 10066.6704\n",
      "epoch = 48; total train loss = 4647768.2749, train recon loss = 459632.2520, train kl loss = 51445.7645; total val loss = 939720.7866, val recon loss = 92972.4062 & val kl loss = 9996.7273\n",
      "epoch = 49; total train loss = 4646063.5742, train recon loss = 459457.0593, train kl loss = 51492.9797; total val loss = 939563.8652, val recon loss = 92930.7748 & val kl loss = 10256.1199\n",
      "epoch = 50; total train loss = 4644631.0322, train recon loss = 459315.9888, train kl loss = 51471.1430; total val loss = 940020.6855, val recon loss = 92962.3998 & val kl loss = 10396.6901\n"
     ]
    }
   ],
   "source": [
    "for epoch in range(1, num_epochs + 1):\n",
    "    \"\"\"\n",
    "    # Manual early stopping implementation-\n",
    "    if loc_patience >= patience:\n",
    "        print(\"\\n'EarlyStopping' called!\\n\")\n",
    "        break\n",
    "    \"\"\"\n",
    "\n",
    "    # Epoch train & validation losses-\n",
    "    train_loss = 0.0\n",
    "    train_r_loss = 0.0\n",
    "    train_kl_l = 0.0\n",
    "    val_loss = 0.0\n",
    "    val_r_loss = 0.0\n",
    "    val_kl_l = 0.0\n",
    "    \n",
    "    for data in train_dataset:\n",
    "        train_total_loss, train_recon_loss, train_kl_loss = train_one_step(\n",
    "            model = model, optimizer = optimizer,\n",
    "            data = list(data), alpha = alpha\n",
    "        )\n",
    "        \n",
    "        train_loss += train_total_loss.numpy()\n",
    "        train_r_loss += train_recon_loss.numpy()\n",
    "        train_kl_l += train_kl_loss.numpy()\n",
    "    \n",
    "    for test_data in test_dataset:\n",
    "        test_total_loss, test_recon_loss, test_kl_loss = test_step(\n",
    "            model = model, optimizer = optimizer,\n",
    "            data = test_data, alpha = alpha)\n",
    "        \n",
    "        val_loss += test_total_loss.numpy()\n",
    "        val_r_loss += test_recon_loss.numpy()\n",
    "        val_kl_l += test_kl_loss.numpy()\n",
    "    \n",
    "    # vae_train_loss.append(train_loss)\n",
    "    # vae_val_loss.append(val_loss)\n",
    "\n",
    "    training_metrics[epoch] = {\n",
    "        'total_loss': train_loss, 'recon_loss': train_r_loss,\n",
    "        'kl_loss': train_kl_l\n",
    "        }\n",
    "    \n",
    "    val_metrics[epoch] = {\n",
    "        'total_loss': val_loss, 'recon_loss': val_r_loss,\n",
    "        'kl_loss': val_kl_l\n",
    "    }\n",
    "\n",
    "    print(f\"epoch = {epoch}; total train loss = {train_loss:.4f},\"\n",
    "    f\" train recon loss = {train_r_loss:.4f}, train kl loss = {train_kl_l:.4f};\"\n",
    "    f\" total val loss = {val_loss:.4f}, val recon loss = {val_r_loss:.4f} &\"\n",
    "    f\" val kl loss = {val_kl_l:.4f}\"\n",
    "    )"
   ]
  },
  {
   "cell_type": "code",
   "execution_count": 33,
   "metadata": {},
   "outputs": [],
   "source": [
    "# model.save('vgg_based_250')"
   ]
  },
  {
   "cell_type": "code",
   "execution_count": null,
   "metadata": {},
   "outputs": [],
   "source": [
    "X_train.shape"
   ]
  },
  {
   "cell_type": "code",
   "execution_count": 35,
   "metadata": {},
   "outputs": [
    {
     "data": {
      "text/plain": [
       "(2000, 10)"
      ]
     },
     "execution_count": 35,
     "metadata": {},
     "output_type": "execute_result"
    }
   ],
   "source": [
    "x_data = X_test[:2000]\n",
    "y_data = y_test[:2000]\n",
    "y_data.shape"
   ]
  },
  {
   "cell_type": "code",
   "execution_count": 120,
   "metadata": {},
   "outputs": [
    {
     "data": {
      "text/plain": [
       "array([1., 0., 0., 0., 0., 0., 0., 0., 0., 0.], dtype=float32)"
      ]
     },
     "execution_count": 120,
     "metadata": {},
     "output_type": "execute_result"
    }
   ],
   "source": [
    "y_data[10]"
   ]
  },
  {
   "cell_type": "code",
   "execution_count": 132,
   "metadata": {
    "scrolled": true
   },
   "outputs": [
    {
     "data": {
      "text/plain": [
       "<matplotlib.image.AxesImage at 0x7f85d9317730>"
      ]
     },
     "execution_count": 132,
     "metadata": {},
     "output_type": "execute_result"
    },
    {
     "data": {
      "image/png": "[encoded data removed]",
      "text/plain": [
       "<Figure size 432x288 with 1 Axes>"
      ]
     },
     "metadata": {
      "needs_background": "light"
     },
     "output_type": "display_data"
    }
   ],
   "source": [
    "%matplotlib inline\n",
    "j = 246\n",
    "x, mu, log_var, z = model.predict([x_data[j].reshape(1,32,32,3), y_data[j].reshape(1,10)])\n",
    "plt.imshow(x_data[j])"
   ]
  },
  {
   "cell_type": "code",
   "execution_count": 40,
   "metadata": {},
   "outputs": [
    {
     "data": {
      "text/plain": [
       "<matplotlib.image.AxesImage at 0x7f85e5fc8a00>"
      ]
     },
     "execution_count": 40,
     "metadata": {},
     "output_type": "execute_result"
    },
    {
     "data": {
      "image/png": "[encoded data removed]",
      "text/plain": [
       "<Figure size 432x288 with 1 Axes>"
      ]
     },
     "metadata": {
      "needs_background": "light"
     },
     "output_type": "display_data"
    }
   ],
   "source": [
    "plt.imshow(x[0])"
   ]
  },
  {
   "cell_type": "code",
   "execution_count": 148,
   "metadata": {},
   "outputs": [
    {
     "data": {
      "text/plain": [
       "<matplotlib.image.AxesImage at 0x7f85d8c82a00>"
      ]
     },
     "execution_count": 148,
     "metadata": {},
     "output_type": "execute_result"
    },
    {
     "data": {
      "image/png": "[encoded data removed]",
      "text/plain": [
       "<Figure size 432x288 with 1 Axes>"
      ]
     },
     "metadata": {
      "needs_background": "light"
     },
     "output_type": "display_data"
    }
   ],
   "source": [
    "from PIL import Image, ImageEnhance\n",
    "z_ex = np.random.normal(0, 1, (1,100))\n",
    "y = y_data[246].reshape(1,10)\n",
    "z_ex.shape\n",
    "out = tf.keras.activations.sigmoid(model.decoder([z_ex, y]))\n",
    "im = tf.keras.preprocessing.image.array_to_img(out[0])\n",
    "enhancer = ImageEnhance.Sharpness(im)\n",
    "\n",
    "factor = 5\n",
    "im_s_1 = enhancer.enhance(factor)\n",
    "plt.imshow(im_s_1)"
   ]
  },
  {
   "cell_type": "code",
   "execution_count": null,
   "metadata": {},
   "outputs": [],
   "source": [
    "\n"
   ]
  },
  {
   "cell_type": "code",
   "execution_count": null,
   "metadata": {},
   "outputs": [],
   "source": []
  }
 ],
 "metadata": {
  "kernelspec": {
   "display_name": "Python 3",
   "language": "python",
   "name": "python3"
  },
  "language_info": {
   "codemirror_mode": {
    "name": "ipython",
    "version": 3
   },
   "file_extension": ".py",
   "mimetype": "text/x-python",
   "name": "python",
   "nbconvert_exporter": "python",
   "pygments_lexer": "ipython3",
   "version": "3.8.10"
  }
 },
 "nbformat": 4,
 "nbformat_minor": 5
}
