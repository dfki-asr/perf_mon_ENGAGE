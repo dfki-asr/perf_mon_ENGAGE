{
 "cells": [
  {
   "cell_type": "code",
   "execution_count": 1,
   "metadata": {},
   "outputs": [
    {
     "name": "stdout",
     "output_type": "stream",
     "text": [
      "Collecting numpy==1.21\n",
      "  Downloading numpy-1.21.0-cp38-cp38-manylinux_2_12_x86_64.manylinux2010_x86_64.whl (15.7 MB)\n",
      "\u001b[K     |████████████████████████████████| 15.7 MB 8.8 MB/s eta 0:00:01MB/s eta 0:00:01\n",
      "\u001b[?25hInstalling collected packages: numpy\n",
      "Successfully installed numpy-1.21.0\n",
      "\u001b[33mWARNING: You are using pip version 20.2.4; however, version 22.1 is available.\n",
      "You should consider upgrading via the '/usr/bin/python3 -m pip install --upgrade pip' command.\u001b[0m\n"
     ]
    }
   ],
   "source": []
  },
  {
   "cell_type": "code",
   "execution_count": 4,
   "metadata": {},
   "outputs": [],
   "source": [
    "import tensorflow\n",
    "from tensorflow import keras\n",
    "from tensorflow.keras import layers\n",
    "from tensorflow.keras.layers import Conv2D, Conv2DTranspose, Dense, Input, Flatten,\\\n",
    "Conv2DTranspose, BatchNormalization, LeakyReLU, Reshape, MaxPooling2D\n",
    "from tensorflow.keras.models import Sequential, Model\n",
    "from tensorflow.keras.datasets import cifar10\n",
    "import tensorflow.keras.backend as K\n",
    "import tensorflow as tf\n",
    "\n",
    "import numpy as np\n",
    "import matplotlib.pyplot as plt\n",
    "import plotly\n",
    "import plotly.express as px"
   ]
  },
  {
   "cell_type": "code",
   "execution_count": 5,
   "metadata": {},
   "outputs": [],
   "source": [
    "# input image dimensions\n",
    "img_rows, img_cols = 32, 32"
   ]
  },
  {
   "cell_type": "code",
   "execution_count": 6,
   "metadata": {},
   "outputs": [],
   "source": [
    "# Load CIFAR-10 dataset-\n",
    "(X_train, y_train), (X_test, y_test) = cifar10.load_data()"
   ]
  },
  {
   "cell_type": "code",
   "execution_count": 7,
   "metadata": {},
   "outputs": [],
   "source": [
    "input_shape = (img_rows, img_cols, 3)"
   ]
  },
  {
   "cell_type": "code",
   "execution_count": 8,
   "metadata": {},
   "outputs": [
    {
     "name": "stdout",
     "output_type": "stream",
     "text": [
      "\n",
      "Dimensions of training and testing sets are:\n",
      "X_train.shape: (50000, 32, 32, 3) & X_test.shape: (10000, 32, 32, 3)\n"
     ]
    }
   ],
   "source": [
    "# Specify hyper-parameters-\n",
    "batch_size = 64\n",
    "num_classes = 10\n",
    "num_epochs = 100\n",
    "\n",
    "# Convert datasets to floating point types-\n",
    "X_train = X_train.astype('float32')\n",
    "X_test = X_test.astype('float32')\n",
    "\n",
    "# Normalize the training and testing datasets-\n",
    "X_train /= 255.0\n",
    "X_test /= 255.0\n",
    "\n",
    "print(\"\\nDimensions of training and testing sets are:\")\n",
    "print(f\"X_train.shape: {X_train.shape} & X_test.shape: {X_test.shape}\")"
   ]
  },
  {
   "cell_type": "code",
   "execution_count": 9,
   "metadata": {},
   "outputs": [],
   "source": [
    "load_outlier_detector = True\n",
    "filepath = '/root/.keras/datasets/'\n",
    "latent_dim = 2"
   ]
  },
  {
   "cell_type": "code",
   "execution_count": 10,
   "metadata": {},
   "outputs": [],
   "source": [
    "class Sampling(layers.Layer):\n",
    "    \"\"\"Uses (z_mean, z_log_var) to sample z, the vector encoding a digit.\"\"\"\n",
    "\n",
    "    def call(self, inputs):\n",
    "        z_mean, z_log_var = inputs\n",
    "        batch = tf.shape(z_mean)[0]\n",
    "        dim = tf.shape(z_mean)[1]\n",
    "        epsilon = tf.keras.backend.random_normal(shape=(batch, dim))\n",
    "        return z_mean + tf.exp(0.5 * z_log_var) * epsilon"
   ]
  },
  {
   "cell_type": "code",
   "execution_count": 15,
   "metadata": {},
   "outputs": [
    {
     "name": "stdout",
     "output_type": "stream",
     "text": [
      "Model: \"encoder\"\n",
      "__________________________________________________________________________________________________\n",
      " Layer (type)                   Output Shape         Param #     Connected to                     \n",
      "==================================================================================================\n",
      " input_4 (InputLayer)           [(None, 32, 32, 3)]  0           []                               \n",
      "                                                                                                  \n",
      " conv2d_3 (Conv2D)              (None, 16, 16, 64)   3136        ['input_4[0][0]']                \n",
      "                                                                                                  \n",
      " conv2d_4 (Conv2D)              (None, 8, 8, 128)    131200      ['conv2d_3[0][0]']               \n",
      "                                                                                                  \n",
      " conv2d_5 (Conv2D)              (None, 4, 4, 512)    1049088     ['conv2d_4[0][0]']               \n",
      "                                                                                                  \n",
      " flatten_1 (Flatten)            (None, 8192)         0           ['conv2d_5[0][0]']               \n",
      "                                                                                                  \n",
      " dense_2 (Dense)                (None, 2)            16386       ['flatten_1[0][0]']              \n",
      "                                                                                                  \n",
      " z_mean (Dense)                 (None, 2)            6           ['dense_2[0][0]']                \n",
      "                                                                                                  \n",
      " z_log_var (Dense)              (None, 2)            6           ['dense_2[0][0]']                \n",
      "                                                                                                  \n",
      " sampling_1 (Sampling)          (None, 2)            0           ['z_mean[0][0]',                 \n",
      "                                                                  'z_log_var[0][0]']              \n",
      "                                                                                                  \n",
      "==================================================================================================\n",
      "Total params: 1,199,822\n",
      "Trainable params: 1,199,822\n",
      "Non-trainable params: 0\n",
      "__________________________________________________________________________________________________\n",
      "Model: \"decoder\"\n",
      "_________________________________________________________________\n",
      " Layer (type)                Output Shape              Param #   \n",
      "=================================================================\n",
      " input_5 (InputLayer)        [(None, 2)]               0         \n",
      "                                                                 \n",
      " dense_3 (Dense)             (None, 8192)              24576     \n",
      "                                                                 \n",
      " reshape_1 (Reshape)         (None, 4, 4, 512)         0         \n",
      "                                                                 \n",
      " conv2d_transpose_3 (Conv2DT  (None, 8, 8, 128)        1048704   \n",
      " ranspose)                                                       \n",
      "                                                                 \n",
      " conv2d_transpose_4 (Conv2DT  (None, 16, 16, 64)       131136    \n",
      " ranspose)                                                       \n",
      "                                                                 \n",
      " conv2d_transpose_5 (Conv2DT  (None, 32, 32, 3)        3075      \n",
      " ranspose)                                                       \n",
      "                                                                 \n",
      "=================================================================\n",
      "Total params: 1,207,491\n",
      "Trainable params: 1,207,491\n",
      "Non-trainable params: 0\n",
      "_________________________________________________________________\n"
     ]
    }
   ],
   "source": [
    "# encoder_inputs = keras.Input(shape=(32, 32, 3))\n",
    "# x = Conv2D(64, 4, strides=2, padding='same', activation=tf.nn.relu)(encoder_inputs)\n",
    "# x = Conv2D(128, 4, strides=2, padding='same', activation=tf.nn.relu)(x)\n",
    "# x = Conv2D(512, 4, strides=2, padding='same', activation=tf.nn.relu)(x)\n",
    "# x = layers.Flatten()(x)\n",
    "# x = layers.Dense(latent_dim, activation=\"relu\")(x)\n",
    "# z_mean = layers.Dense(latent_dim, name=\"z_mean\")(x)\n",
    "# z_log_var = layers.Dense(latent_dim, name=\"z_log_var\")(x)\n",
    "# z = Sampling()([z_mean, z_log_var])\n",
    "# encoder = keras.Model(encoder_inputs, [z_mean, z_log_var, z], name=\"encoder\")\n",
    "# encoder.summary()\n",
    "\n",
    "# latent_inputs = keras.Input(shape=(latent_dim,))\n",
    "# x = layers.Dense(4*4*512)(latent_inputs)\n",
    "# x = layers.Reshape(target_shape=(4, 4, 512))(x)\n",
    "# x = Conv2DTranspose(128, 4, strides=2, padding='same', activation=tf.nn.relu)(x)\n",
    "# x = Conv2DTranspose(64, 4, strides=2, padding='same', activation=tf.nn.relu)(x)\n",
    "# decoder_outputs = Conv2DTranspose(3, 4, strides=2, padding='same', activation='sigmoid')(x)\n",
    "# decoder = keras.Model(latent_inputs, decoder_outputs, name=\"decoder\")\n",
    "# decoder.summary()\n"
   ]
  },
  {
   "cell_type": "code",
   "execution_count": 25,
   "metadata": {},
   "outputs": [
    {
     "name": "stdout",
     "output_type": "stream",
     "text": [
      "Model: \"encoder\"\n",
      "__________________________________________________________________________________________________\n",
      " Layer (type)                   Output Shape         Param #     Connected to                     \n",
      "==================================================================================================\n",
      " input_24 (InputLayer)          [(None, 32, 32, 3)]  0           []                               \n",
      "                                                                                                  \n",
      " conv2d_24 (Conv2D)             (None, 16, 16, 32)   896         ['input_24[0][0]']               \n",
      "                                                                                                  \n",
      " conv2d_25 (Conv2D)             (None, 8, 8, 64)     18496       ['conv2d_24[0][0]']              \n",
      "                                                                                                  \n",
      " flatten_11 (Flatten)           (None, 4096)         0           ['conv2d_25[0][0]']              \n",
      "                                                                                                  \n",
      " dense_22 (Dense)               (None, 2)            8194        ['flatten_11[0][0]']             \n",
      "                                                                                                  \n",
      " z_mean (Dense)                 (None, 2)            6           ['dense_22[0][0]']               \n",
      "                                                                                                  \n",
      " z_log_var (Dense)              (None, 2)            6           ['dense_22[0][0]']               \n",
      "                                                                                                  \n",
      " sampling_11 (Sampling)         (None, 2)            0           ['z_mean[0][0]',                 \n",
      "                                                                  'z_log_var[0][0]']              \n",
      "                                                                                                  \n",
      "==================================================================================================\n",
      "Total params: 27,598\n",
      "Trainable params: 27,598\n",
      "Non-trainable params: 0\n",
      "__________________________________________________________________________________________________\n",
      "Model: \"decoder\"\n",
      "_________________________________________________________________\n",
      " Layer (type)                Output Shape              Param #   \n",
      "=================================================================\n",
      " input_25 (InputLayer)       [(None, 2)]               0         \n",
      "                                                                 \n",
      " dense_23 (Dense)            (None, 4096)              12288     \n",
      "                                                                 \n",
      " reshape_11 (Reshape)        (None, 8, 8, 64)          0         \n",
      "                                                                 \n",
      " conv2d_transpose_25 (Conv2D  (None, 16, 16, 32)       18464     \n",
      " Transpose)                                                      \n",
      "                                                                 \n",
      " conv2d_transpose_26 (Conv2D  (None, 32, 32, 3)        867       \n",
      " Transpose)                                                      \n",
      "                                                                 \n",
      "=================================================================\n",
      "Total params: 31,619\n",
      "Trainable params: 31,619\n",
      "Non-trainable params: 0\n",
      "_________________________________________________________________\n"
     ]
    }
   ],
   "source": [
    "# MODIFIED\n",
    "\n",
    "encoder_inputs = keras.Input(shape=(32, 32, 3))\n",
    "x = Conv2D(32, 3, strides=2, padding='same', activation=tf.nn.relu)(encoder_inputs)\n",
    "x = Conv2D(64, 3, strides=2,  padding='same', activation=tf.nn.relu)(x)\n",
    "# x = Conv2D(512, 4, strides=2, padding='same', activation=tf.nn.relu)(x)\n",
    "x = layers.Flatten()(x)\n",
    "x = layers.Dense(latent_dim, activation=\"relu\")(x)\n",
    "z_mean = layers.Dense(latent_dim, name=\"z_mean\")(x)\n",
    "z_log_var = layers.Dense(latent_dim, name=\"z_log_var\")(x)\n",
    "z = Sampling()([z_mean, z_log_var])\n",
    "encoder = keras.Model(encoder_inputs, [z_mean, z_log_var, z], name=\"encoder\")\n",
    "encoder.summary()\n",
    "\n",
    "latent_inputs = keras.Input(shape=(latent_dim,))\n",
    "x = layers.Dense(8*8*64)(latent_inputs)\n",
    "x = layers.Reshape(target_shape=(8, 8, 64))(x)\n",
    "x = Conv2DTranspose(32, 3, strides=2, padding='same',  activation=tf.nn.relu)(x)\n",
    "# x = Conv2DTranspose(64, 4, strides=2, padding='same', activation=tf.nn.relu)(x)\n",
    "decoder_outputs = Conv2DTranspose(3, 3, strides=2, padding='same',  activation='sigmoid')(x)\n",
    "decoder = keras.Model(latent_inputs, decoder_outputs, name=\"decoder\")\n",
    "decoder.summary()"
   ]
  },
  {
   "cell_type": "code",
   "execution_count": 26,
   "metadata": {},
   "outputs": [],
   "source": [
    "class VAE(keras.Model):\n",
    "    def __init__(self, encoder, decoder, **kwargs):\n",
    "        super(VAE, self).__init__(**kwargs)\n",
    "        self.encoder = encoder\n",
    "        self.decoder = decoder\n",
    "        self.total_loss_tracker = keras.metrics.Mean(name=\"total_loss\")\n",
    "        self.reconstruction_loss_tracker = keras.metrics.Mean(\n",
    "            name=\"reconstruction_loss\"\n",
    "        )\n",
    "        self.kl_loss_tracker = keras.metrics.Mean(name=\"kl_loss\")\n",
    "\n",
    "    @property\n",
    "    def metrics(self):\n",
    "        return [\n",
    "            self.total_loss_tracker,\n",
    "            self.reconstruction_loss_tracker,\n",
    "            self.kl_loss_tracker,\n",
    "        ]\n",
    "\n",
    "    def train_step(self, data):\n",
    "        with tf.GradientTape() as tape:\n",
    "            z_mean, z_log_var, z = self.encoder(data)\n",
    "            reconstruction = self.decoder(z)\n",
    "            reconstruction_loss = tf.reduce_mean(\n",
    "                tf.reduce_sum(\n",
    "                    keras.losses.mse(data, reconstruction), axis=(1, 2)\n",
    "                )\n",
    "            )\n",
    "            kl_loss = -0.5 * (1 + z_log_var - tf.square(z_mean) - tf.exp(z_log_var))\n",
    "            kl_loss = tf.reduce_mean(tf.reduce_sum(kl_loss, axis=1))\n",
    "            total_loss = reconstruction_loss + kl_loss\n",
    "        grads = tape.gradient(total_loss, self.trainable_weights)\n",
    "        self.optimizer.apply_gradients(zip(grads, self.trainable_weights))\n",
    "        self.total_loss_tracker.update_state(total_loss)\n",
    "        self.reconstruction_loss_tracker.update_state(reconstruction_loss)\n",
    "        self.kl_loss_tracker.update_state(kl_loss)\n",
    "        return {\n",
    "            \"loss\": self.total_loss_tracker.result(),\n",
    "            \"reconstruction_loss\": self.reconstruction_loss_tracker.result(),\n",
    "            \"kl_loss\": self.kl_loss_tracker.result(),\n",
    "        }"
   ]
  },
  {
   "cell_type": "code",
   "execution_count": 27,
   "metadata": {},
   "outputs": [],
   "source": [
    "callback = tf.keras.callbacks.EarlyStopping(monitor='reconstruction_loss', patience=3)"
   ]
  },
  {
   "cell_type": "code",
   "execution_count": 33,
   "metadata": {},
   "outputs": [
    {
     "name": "stdout",
     "output_type": "stream",
     "text": [
      "Epoch 1/10\n",
      "391/391 [==============================] - 6s 9ms/step - loss: 63.8542 - reconstruction_loss: 63.6817 - kl_loss: 2.2475e-04\n",
      "Epoch 2/10\n",
      "391/391 [==============================] - 4s 9ms/step - loss: 63.5577 - reconstruction_loss: 63.5125 - kl_loss: 1.1572e-04\n",
      "Epoch 3/10\n",
      "391/391 [==============================] - 4s 9ms/step - loss: 63.3499 - reconstruction_loss: 63.5020 - kl_loss: 7.4846e-05\n",
      "Epoch 4/10\n",
      "391/391 [==============================] - 4s 11ms/step - loss: 63.4434 - reconstruction_loss: 63.5075 - kl_loss: 5.0385e-05\n",
      "Epoch 5/10\n",
      "391/391 [==============================] - 3s 8ms/step - loss: 63.4478 - reconstruction_loss: 63.5013 - kl_loss: 4.3424e-05\n",
      "Epoch 6/10\n",
      "391/391 [==============================] - 3s 9ms/step - loss: 63.6461 - reconstruction_loss: 63.5031 - kl_loss: 5.0266e-05\n",
      "Epoch 7/10\n",
      "391/391 [==============================] - 4s 9ms/step - loss: 63.7728 - reconstruction_loss: 63.5024 - kl_loss: 3.5586e-05\n",
      "Epoch 8/10\n",
      "391/391 [==============================] - 3s 9ms/step - loss: 63.5202 - reconstruction_loss: 63.4953 - kl_loss: 4.1226e-05\n",
      "Epoch 9/10\n",
      "391/391 [==============================] - 3s 9ms/step - loss: 63.6972 - reconstruction_loss: 63.4957 - kl_loss: 3.2220e-05\n",
      "Epoch 10/10\n",
      "391/391 [==============================] - 4s 9ms/step - loss: 63.3313 - reconstruction_loss: 63.5008 - kl_loss: 3.6204e-05\n"
     ]
    },
    {
     "data": {
      "text/plain": [
       "<keras.callbacks.History at 0x7f8c900704c0>"
      ]
     },
     "execution_count": 33,
     "metadata": {},
     "output_type": "execute_result"
    }
   ],
   "source": [
    "vae = VAE(encoder, decoder)\n",
    "# vae.build(input_shape=(32, 32, 3))\n",
    "# vae.summary()\n",
    "vae.compile(optimizer=keras.optimizers.Adam(learning_rate=0.001))\n",
    "vae.fit(X_train,epochs=10, batch_size=128)"
   ]
  },
  {
   "cell_type": "code",
   "execution_count": 54,
   "metadata": {},
   "outputs": [],
   "source": [
    "img=999\n",
    "m, l, z = vae.encoder.predict(X_test[img].reshape(1,32,32,3))"
   ]
  },
  {
   "cell_type": "code",
   "execution_count": 55,
   "metadata": {},
   "outputs": [],
   "source": [
    "dec = vae.decoder.predict(z)"
   ]
  },
  {
   "cell_type": "code",
   "execution_count": 56,
   "metadata": {},
   "outputs": [
    {
     "data": {
      "image/png": "[encoded data removed]",
      "text/plain": [
       "<Figure size 400x400 with 2 Axes>"
      ]
     },
     "metadata": {},
     "output_type": "display_data"
    }
   ],
   "source": [
    "fig, axs = plt.subplots(nrows=1, ncols=2, figsize=(4, 4))\n",
    "axs = axs.flatten()\n",
    "axs[0].imshow(X_test[img])\n",
    "axs[1].imshow(dec[0])\n",
    "plt.show()"
   ]
  },
  {
   "cell_type": "code",
   "execution_count": null,
   "metadata": {},
   "outputs": [],
   "source": [
    "\n"
   ]
  },
  {
   "cell_type": "code",
   "execution_count": null,
   "metadata": {},
   "outputs": [],
   "source": []
  },
  {
   "cell_type": "code",
   "execution_count": null,
   "metadata": {},
   "outputs": [],
   "source": []
  },
  {
   "cell_type": "code",
   "execution_count": null,
   "metadata": {},
   "outputs": [],
   "source": []
  }
 ],
 "metadata": {
  "kernelspec": {
   "display_name": "Python 3",
   "language": "python",
   "name": "python3"
  },
  "language_info": {
   "codemirror_mode": {
    "name": "ipython",
    "version": 3
   },
   "file_extension": ".py",
   "mimetype": "text/x-python",
   "name": "python",
   "nbconvert_exporter": "python",
   "pygments_lexer": "ipython3",
   "version": "3.8.10"
  }
 },
 "nbformat": 4,
 "nbformat_minor": 2
}
